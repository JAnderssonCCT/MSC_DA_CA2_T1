{
 "cells": [
  {
   "cell_type": "markdown",
   "id": "22ec093d",
   "metadata": {},
   "source": [
    "<h1>Jan Andersson - sba20368</h1>"
   ]
  },
  {
   "cell_type": "code",
   "execution_count": 1,
   "id": "ceddad8a",
   "metadata": {},
   "outputs": [
    {
     "name": "stdout",
     "output_type": "stream",
     "text": [
      "Defaulting to user installation because normal site-packages is not writeable\n",
      "Requirement already satisfied: tensorflow==2.8.2 in c:\\users\\onceu\\appdata\\roaming\\python\\python39\\site-packages (2.8.2)\n",
      "Requirement already satisfied: flatbuffers>=1.12 in c:\\users\\onceu\\appdata\\roaming\\python\\python39\\site-packages (from tensorflow==2.8.2) (1.12)\n",
      "Requirement already satisfied: protobuf<3.20,>=3.9.2 in c:\\users\\onceu\\appdata\\roaming\\python\\python39\\site-packages (from tensorflow==2.8.2) (3.19.6)\n",
      "Requirement already satisfied: tensorflow-estimator<2.9,>=2.8 in c:\\users\\onceu\\appdata\\roaming\\python\\python39\\site-packages (from tensorflow==2.8.2) (2.8.0)\n",
      "Requirement already satisfied: tensorboard<2.9,>=2.8 in c:\\users\\onceu\\appdata\\roaming\\python\\python39\\site-packages (from tensorflow==2.8.2) (2.8.0)\n",
      "Requirement already satisfied: h5py>=2.9.0 in c:\\users\\onceu\\appdata\\roaming\\python\\python39\\site-packages (from tensorflow==2.8.2) (3.7.0)\n",
      "Requirement already satisfied: six>=1.12.0 in c:\\users\\onceu\\appdata\\roaming\\python\\python39\\site-packages (from tensorflow==2.8.2) (1.16.0)\n",
      "Requirement already satisfied: numpy>=1.20 in c:\\users\\onceu\\appdata\\roaming\\python\\python39\\site-packages (from tensorflow==2.8.2) (1.21.6)\n",
      "Requirement already satisfied: opt-einsum>=2.3.2 in c:\\users\\onceu\\appdata\\roaming\\python\\python39\\site-packages (from tensorflow==2.8.2) (3.3.0)\n",
      "Requirement already satisfied: google-pasta>=0.1.1 in c:\\users\\onceu\\appdata\\roaming\\python\\python39\\site-packages (from tensorflow==2.8.2) (0.2.0)\n",
      "Requirement already satisfied: setuptools in c:\\programdata\\anaconda3\\lib\\site-packages (from tensorflow==2.8.2) (61.2.0)\n",
      "Requirement already satisfied: termcolor>=1.1.0 in c:\\users\\onceu\\appdata\\roaming\\python\\python39\\site-packages (from tensorflow==2.8.2) (2.2.0)\n",
      "Requirement already satisfied: absl-py>=0.4.0 in c:\\users\\onceu\\appdata\\roaming\\python\\python39\\site-packages (from tensorflow==2.8.2) (1.3.0)\n",
      "Requirement already satisfied: tensorflow-io-gcs-filesystem>=0.23.1 in c:\\users\\onceu\\appdata\\roaming\\python\\python39\\site-packages (from tensorflow==2.8.2) (0.29.0)\n",
      "Requirement already satisfied: typing-extensions>=3.6.6 in c:\\users\\onceu\\appdata\\roaming\\python\\python39\\site-packages (from tensorflow==2.8.2) (4.4.0)\n",
      "Requirement already satisfied: astunparse>=1.6.0 in c:\\users\\onceu\\appdata\\roaming\\python\\python39\\site-packages (from tensorflow==2.8.2) (1.6.3)\n",
      "Requirement already satisfied: keras-preprocessing>=1.1.1 in c:\\users\\onceu\\appdata\\roaming\\python\\python39\\site-packages (from tensorflow==2.8.2) (1.1.2)\n",
      "Requirement already satisfied: wrapt>=1.11.0 in c:\\programdata\\anaconda3\\lib\\site-packages (from tensorflow==2.8.2) (1.12.1)\n",
      "Requirement already satisfied: keras<2.9,>=2.8.0rc0 in c:\\users\\onceu\\appdata\\roaming\\python\\python39\\site-packages (from tensorflow==2.8.2) (2.8.0)\n",
      "Requirement already satisfied: gast>=0.2.1 in c:\\users\\onceu\\appdata\\roaming\\python\\python39\\site-packages (from tensorflow==2.8.2) (0.4.0)\n",
      "Requirement already satisfied: libclang>=9.0.1 in c:\\users\\onceu\\appdata\\roaming\\python\\python39\\site-packages (from tensorflow==2.8.2) (14.0.6)\n",
      "Requirement already satisfied: grpcio<2.0,>=1.24.3 in c:\\users\\onceu\\appdata\\roaming\\python\\python39\\site-packages (from tensorflow==2.8.2) (1.51.1)\n",
      "Requirement already satisfied: wheel<1.0,>=0.23.0 in c:\\programdata\\anaconda3\\lib\\site-packages (from astunparse>=1.6.0->tensorflow==2.8.2) (0.37.1)\n",
      "Requirement already satisfied: tensorboard-plugin-wit>=1.6.0 in c:\\users\\onceu\\appdata\\roaming\\python\\python39\\site-packages (from tensorboard<2.9,>=2.8->tensorflow==2.8.2) (1.8.1)\n",
      "Requirement already satisfied: markdown>=2.6.8 in c:\\programdata\\anaconda3\\lib\\site-packages (from tensorboard<2.9,>=2.8->tensorflow==2.8.2) (3.3.4)\n",
      "Requirement already satisfied: werkzeug>=0.11.15 in c:\\programdata\\anaconda3\\lib\\site-packages (from tensorboard<2.9,>=2.8->tensorflow==2.8.2) (2.0.3)\n",
      "Requirement already satisfied: google-auth<3,>=1.6.3 in c:\\users\\onceu\\appdata\\roaming\\python\\python39\\site-packages (from tensorboard<2.9,>=2.8->tensorflow==2.8.2) (2.15.0)\n",
      "Requirement already satisfied: requests<3,>=2.21.0 in c:\\programdata\\anaconda3\\lib\\site-packages (from tensorboard<2.9,>=2.8->tensorflow==2.8.2) (2.27.1)\n",
      "Requirement already satisfied: tensorboard-data-server<0.7.0,>=0.6.0 in c:\\users\\onceu\\appdata\\roaming\\python\\python39\\site-packages (from tensorboard<2.9,>=2.8->tensorflow==2.8.2) (0.6.1)\n",
      "Requirement already satisfied: google-auth-oauthlib<0.5,>=0.4.1 in c:\\users\\onceu\\appdata\\roaming\\python\\python39\\site-packages (from tensorboard<2.9,>=2.8->tensorflow==2.8.2) (0.4.6)\n",
      "Requirement already satisfied: cachetools<6.0,>=2.0.0 in c:\\programdata\\anaconda3\\lib\\site-packages (from google-auth<3,>=1.6.3->tensorboard<2.9,>=2.8->tensorflow==2.8.2) (4.2.2)\n",
      "Requirement already satisfied: rsa<5,>=3.1.4 in c:\\programdata\\anaconda3\\lib\\site-packages (from google-auth<3,>=1.6.3->tensorboard<2.9,>=2.8->tensorflow==2.8.2) (4.7.2)\n",
      "Requirement already satisfied: pyasn1-modules>=0.2.1 in c:\\programdata\\anaconda3\\lib\\site-packages (from google-auth<3,>=1.6.3->tensorboard<2.9,>=2.8->tensorflow==2.8.2) (0.2.8)\n",
      "Requirement already satisfied: requests-oauthlib>=0.7.0 in c:\\users\\onceu\\appdata\\roaming\\python\\python39\\site-packages (from google-auth-oauthlib<0.5,>=0.4.1->tensorboard<2.9,>=2.8->tensorflow==2.8.2) (1.3.1)\n",
      "Requirement already satisfied: pyasn1<0.5.0,>=0.4.6 in c:\\programdata\\anaconda3\\lib\\site-packages (from pyasn1-modules>=0.2.1->google-auth<3,>=1.6.3->tensorboard<2.9,>=2.8->tensorflow==2.8.2) (0.4.8)\n",
      "Requirement already satisfied: idna<4,>=2.5 in c:\\programdata\\anaconda3\\lib\\site-packages (from requests<3,>=2.21.0->tensorboard<2.9,>=2.8->tensorflow==2.8.2) (3.3)\n",
      "Requirement already satisfied: certifi>=2017.4.17 in c:\\users\\onceu\\appdata\\roaming\\python\\python39\\site-packages (from requests<3,>=2.21.0->tensorboard<2.9,>=2.8->tensorflow==2.8.2) (2022.12.7)\n",
      "Requirement already satisfied: urllib3<1.27,>=1.21.1 in c:\\programdata\\anaconda3\\lib\\site-packages (from requests<3,>=2.21.0->tensorboard<2.9,>=2.8->tensorflow==2.8.2) (1.26.9)\n",
      "Requirement already satisfied: charset-normalizer~=2.0.0 in c:\\programdata\\anaconda3\\lib\\site-packages (from requests<3,>=2.21.0->tensorboard<2.9,>=2.8->tensorflow==2.8.2) (2.0.4)\n",
      "Requirement already satisfied: oauthlib>=3.0.0 in c:\\users\\onceu\\appdata\\roaming\\python\\python39\\site-packages (from requests-oauthlib>=0.7.0->google-auth-oauthlib<0.5,>=0.4.1->tensorboard<2.9,>=2.8->tensorflow==2.8.2) (3.2.2)\n",
      "Defaulting to user installation because normal site-packages is not writeable\n",
      "Requirement already satisfied: numpy==1.21.6 in c:\\users\\onceu\\appdata\\roaming\\python\\python39\\site-packages (1.21.6)\n",
      "Defaulting to user installation because normal site-packages is not writeable\n"
     ]
    },
    {
     "name": "stderr",
     "output_type": "stream",
     "text": [
      "ERROR: Could not find a version that satisfies the requirement cv2==4.6.0 (from versions: none)\n",
      "ERROR: No matching distribution found for cv2==4.6.0\n"
     ]
    },
    {
     "name": "stdout",
     "output_type": "stream",
     "text": [
      "Defaulting to user installation because normal site-packages is not writeable\n",
      "Requirement already satisfied: keras==2.8.0 in c:\\users\\onceu\\appdata\\roaming\\python\\python39\\site-packages (2.8.0)\n",
      "Defaulting to user installation because normal site-packages is not writeable\n",
      "Requirement already satisfied: segmentation_models==1.0.1 in c:\\users\\onceu\\appdata\\roaming\\python\\python39\\site-packages (1.0.1)\n",
      "Requirement already satisfied: keras-applications<=1.0.8,>=1.0.7 in c:\\users\\onceu\\appdata\\roaming\\python\\python39\\site-packages (from segmentation_models==1.0.1) (1.0.8)\n",
      "Requirement already satisfied: image-classifiers==1.0.0 in c:\\users\\onceu\\appdata\\roaming\\python\\python39\\site-packages (from segmentation_models==1.0.1) (1.0.0)\n",
      "Requirement already satisfied: efficientnet==1.0.0 in c:\\users\\onceu\\appdata\\roaming\\python\\python39\\site-packages (from segmentation_models==1.0.1) (1.0.0)\n",
      "Requirement already satisfied: scikit-image in c:\\programdata\\anaconda3\\lib\\site-packages (from efficientnet==1.0.0->segmentation_models==1.0.1) (0.19.2)\n",
      "Requirement already satisfied: h5py in c:\\users\\onceu\\appdata\\roaming\\python\\python39\\site-packages (from keras-applications<=1.0.8,>=1.0.7->segmentation_models==1.0.1) (3.7.0)\n",
      "Requirement already satisfied: numpy>=1.9.1 in c:\\users\\onceu\\appdata\\roaming\\python\\python39\\site-packages (from keras-applications<=1.0.8,>=1.0.7->segmentation_models==1.0.1) (1.21.6)\n",
      "Requirement already satisfied: networkx>=2.2 in c:\\programdata\\anaconda3\\lib\\site-packages (from scikit-image->efficientnet==1.0.0->segmentation_models==1.0.1) (2.7.1)\n",
      "Requirement already satisfied: tifffile>=2019.7.26 in c:\\programdata\\anaconda3\\lib\\site-packages (from scikit-image->efficientnet==1.0.0->segmentation_models==1.0.1) (2021.7.2)\n",
      "Requirement already satisfied: scipy>=1.4.1 in c:\\programdata\\anaconda3\\lib\\site-packages (from scikit-image->efficientnet==1.0.0->segmentation_models==1.0.1) (1.7.3)\n",
      "Requirement already satisfied: imageio>=2.4.1 in c:\\programdata\\anaconda3\\lib\\site-packages (from scikit-image->efficientnet==1.0.0->segmentation_models==1.0.1) (2.9.0)\n",
      "Requirement already satisfied: packaging>=20.0 in c:\\programdata\\anaconda3\\lib\\site-packages (from scikit-image->efficientnet==1.0.0->segmentation_models==1.0.1) (21.3)\n",
      "Requirement already satisfied: pillow!=7.1.0,!=7.1.1,!=8.3.0,>=6.1.0 in c:\\users\\onceu\\appdata\\roaming\\python\\python39\\site-packages (from scikit-image->efficientnet==1.0.0->segmentation_models==1.0.1) (9.4.0)\n",
      "Requirement already satisfied: PyWavelets>=1.1.1 in c:\\programdata\\anaconda3\\lib\\site-packages (from scikit-image->efficientnet==1.0.0->segmentation_models==1.0.1) (1.3.0)\n",
      "Requirement already satisfied: pyparsing!=3.0.5,>=2.0.2 in c:\\programdata\\anaconda3\\lib\\site-packages (from packaging>=20.0->scikit-image->efficientnet==1.0.0->segmentation_models==1.0.1) (3.0.4)\n",
      "Defaulting to user installation because normal site-packages is not writeable\n",
      "Requirement already satisfied: dash in c:\\users\\onceu\\appdata\\roaming\\python\\python39\\site-packages (2.7.1)\n",
      "Requirement already satisfied: Flask>=1.0.4 in c:\\programdata\\anaconda3\\lib\\site-packages (from dash) (1.1.2)\n",
      "Requirement already satisfied: dash-core-components==2.0.0 in c:\\users\\onceu\\appdata\\roaming\\python\\python39\\site-packages (from dash) (2.0.0)\n",
      "Requirement already satisfied: dash-html-components==2.0.0 in c:\\users\\onceu\\appdata\\roaming\\python\\python39\\site-packages (from dash) (2.0.0)\n",
      "Requirement already satisfied: dash-table==5.0.0 in c:\\users\\onceu\\appdata\\roaming\\python\\python39\\site-packages (from dash) (5.0.0)\n",
      "Requirement already satisfied: plotly>=5.0.0 in c:\\programdata\\anaconda3\\lib\\site-packages (from dash) (5.6.0)\n",
      "Requirement already satisfied: click>=5.1 in c:\\programdata\\anaconda3\\lib\\site-packages (from Flask>=1.0.4->dash) (8.0.4)\n",
      "Requirement already satisfied: itsdangerous>=0.24 in c:\\programdata\\anaconda3\\lib\\site-packages (from Flask>=1.0.4->dash) (2.0.1)\n",
      "Requirement already satisfied: Werkzeug>=0.15 in c:\\programdata\\anaconda3\\lib\\site-packages (from Flask>=1.0.4->dash) (2.0.3)\n",
      "Requirement already satisfied: Jinja2>=2.10.1 in c:\\programdata\\anaconda3\\lib\\site-packages (from Flask>=1.0.4->dash) (2.11.3)\n",
      "Requirement already satisfied: colorama in c:\\programdata\\anaconda3\\lib\\site-packages (from click>=5.1->Flask>=1.0.4->dash) (0.4.4)\n",
      "Requirement already satisfied: MarkupSafe>=0.23 in c:\\programdata\\anaconda3\\lib\\site-packages (from Jinja2>=2.10.1->Flask>=1.0.4->dash) (2.0.1)\n",
      "Requirement already satisfied: tenacity>=6.2.0 in c:\\programdata\\anaconda3\\lib\\site-packages (from plotly>=5.0.0->dash) (8.0.1)\n",
      "Requirement already satisfied: six in c:\\users\\onceu\\appdata\\roaming\\python\\python39\\site-packages (from plotly>=5.0.0->dash) (1.16.0)\n"
     ]
    }
   ],
   "source": [
    "# Required tenserflow configuration & Misc Library prerequisite\n",
    "!pip install tensorflow==2.8.2\n",
    "!pip install numpy==1.21.6\n",
    "!pip install cv2==4.6.0\n",
    "!pip install keras==2.8.0\n",
    "!pip install segmentation_models==1.0.1\n",
    "!pip install dash"
   ]
  },
  {
   "cell_type": "code",
   "execution_count": 2,
   "id": "1b680323",
   "metadata": {},
   "outputs": [
    {
     "name": "stderr",
     "output_type": "stream",
     "text": [
      "[nltk_data] Downloading package stopwords to\n",
      "[nltk_data]     C:\\Users\\OnceU\\AppData\\Roaming\\nltk_data...\n",
      "[nltk_data]   Package stopwords is already up-to-date!\n"
     ]
    },
    {
     "data": {
      "text/plain": [
       "True"
      ]
     },
     "execution_count": 2,
     "metadata": {},
     "output_type": "execute_result"
    }
   ],
   "source": [
    "# General Libraries\n",
    "import pandas as pd\n",
    "import numpy as np\n",
    "import scipy.stats as st\n",
    "from sklearn.preprocessing import StandardScaler\n",
    "from statsmodels.stats.weightstats import ztest\n",
    "from scipy.stats import chi2_contingency\n",
    "import re\n",
    "import string\n",
    "import os\n",
    "from collections import Counter\n",
    "import logging\n",
    "import time\n",
    "import pickle\n",
    "import itertools\n",
    "import tkinter as tk\n",
    "import PIL\n",
    "\n",
    "# Machine Learning\n",
    "import sklearn\n",
    "from sklearn.model_selection import train_test_split\n",
    "from sklearn.preprocessing import MinMaxScaler\n",
    "from sklearn.preprocessing import PolynomialFeatures\n",
    "from sklearn.preprocessing import scale\n",
    "from sklearn.feature_selection import RFE\n",
    "from sklearn.linear_model import LinearRegression\n",
    "from sklearn.model_selection import cross_val_score\n",
    "from sklearn.model_selection import KFold\n",
    "from sklearn.model_selection import GridSearchCV\n",
    "from sklearn.pipeline import make_pipeline\n",
    "from sklearn.metrics import confusion_matrix\n",
    "from sklearn import metrics\n",
    "from sklearn.metrics import roc_curve, auc\n",
    "from sklearn.preprocessing import LabelEncoder\n",
    "from sklearn.metrics import confusion_matrix, classification_report, accuracy_score\n",
    "from sklearn.manifold import TSNE\n",
    "from sklearn.feature_extraction.text import TfidfVectorizer\n",
    "from sklearn.cluster import KMeans\n",
    "\n",
    "# Keras\n",
    "from tensorflow.keras.preprocessing.text import Tokenizer\n",
    "from tensorflow.keras.preprocessing.sequence import pad_sequences\n",
    "from tensorflow.keras.models import Sequential\n",
    "from tensorflow.keras.layers import Activation, Dense, Dropout, Embedding, Flatten, Conv1D, MaxPooling1D, LSTM\n",
    "from tensorflow.keras import utils\n",
    "from tensorflow.keras.callbacks import ReduceLROnPlateau, EarlyStopping\n",
    "from tensorflow.python.util.tf_export import keras_export\n",
    "\n",
    "#NLTK\n",
    "import nltk.classify.util\n",
    "import nltk\n",
    "from nltk.corpus import stopwords\n",
    "from  nltk.stem import SnowballStemmer\n",
    "\n",
    "# Word2vec\n",
    "import gensim\n",
    "\n",
    "# Twitter API\n",
    "import tweepy\n",
    "\n",
    "# Visualization libraries\n",
    "import matplotlib.pyplot as plt\n",
    "import matplotlib as mpl\n",
    "import seaborn as sns\n",
    "import plotly.graph_objects as go\n",
    "from ipywidgets import widgets\n",
    "from IPython.display import IFrame\n",
    "\n",
    "# NLTK Toolkit Download\n",
    "nltk.download('stopwords')"
   ]
  },
  {
   "cell_type": "markdown",
   "id": "b91756a1",
   "metadata": {},
   "source": [
    "<h3>Supressing warnings</h3>\n",
    "<p>Supressing warning in pandas library when doing some operations as they take up most of the space of the output and are not code critical</p>"
   ]
  },
  {
   "cell_type": "code",
   "execution_count": 3,
   "id": "a65cf276",
   "metadata": {},
   "outputs": [],
   "source": [
    "import warnings\n",
    "warnings.filterwarnings(\"ignore\")"
   ]
  },
  {
   "cell_type": "markdown",
   "id": "99193e4e",
   "metadata": {},
   "source": [
    "<h3>Loading data and preparing data</h3>\n",
    "<p>Loading the data into a dataframe from a Comma-separated values (CSV) dataset titled:\n",
    "<ul>\n",
    "  <li><code>cattle_births_month_county.csv</code></li>\n",
    "  <li><code>Supply.csv</code></li>\n",
    "  <li><code>Milk_Sales_for_Human_Consumption.csv</code></li>\n",
    "</ul>\n",
    "\n",
    "<h4>The aim</h4>\n",
    "To load the dataset using the CSV pandas load protocol and present the metadata of the dataset in order to get aquianted with the shape of the data."
   ]
  },
  {
   "cell_type": "code",
   "execution_count": 4,
   "id": "1fd02459",
   "metadata": {},
   "outputs": [],
   "source": [
    "data_Births = pd.read_csv('cattle_births_month_county.csv')\n",
    "data_Supply = pd.read_csv('Supply.csv')\n",
    "data_Eu = pd.read_csv('Eu_supply.csv')"
   ]
  },
  {
   "cell_type": "markdown",
   "id": "114ed6f6",
   "metadata": {},
   "source": [
    "# Cattle Births Data"
   ]
  },
  {
   "cell_type": "code",
   "execution_count": 5,
   "id": "c0fe9063",
   "metadata": {},
   "outputs": [
    {
     "data": {
      "text/html": [
       "<div>\n",
       "<style scoped>\n",
       "    .dataframe tbody tr th:only-of-type {\n",
       "        vertical-align: middle;\n",
       "    }\n",
       "\n",
       "    .dataframe tbody tr th {\n",
       "        vertical-align: top;\n",
       "    }\n",
       "\n",
       "    .dataframe thead th {\n",
       "        text-align: right;\n",
       "    }\n",
       "</style>\n",
       "<table border=\"1\" class=\"dataframe\">\n",
       "  <thead>\n",
       "    <tr style=\"text-align: right;\">\n",
       "      <th></th>\n",
       "      <th>BIRTH_YEAR</th>\n",
       "      <th>COUNTY_ORIGIN</th>\n",
       "      <th>BIRTH_MONTH</th>\n",
       "      <th>CALF_BREED_TYPE</th>\n",
       "      <th>TOTAL_BIRTH</th>\n",
       "    </tr>\n",
       "  </thead>\n",
       "  <tbody>\n",
       "    <tr>\n",
       "      <th>0</th>\n",
       "      <td>2016</td>\n",
       "      <td>CARLOW</td>\n",
       "      <td>APR</td>\n",
       "      <td>BEEF</td>\n",
       "      <td>3670</td>\n",
       "    </tr>\n",
       "    <tr>\n",
       "      <th>1</th>\n",
       "      <td>2016</td>\n",
       "      <td>CARLOW</td>\n",
       "      <td>APR</td>\n",
       "      <td>DAIRY</td>\n",
       "      <td>680</td>\n",
       "    </tr>\n",
       "    <tr>\n",
       "      <th>2</th>\n",
       "      <td>2016</td>\n",
       "      <td>CARLOW</td>\n",
       "      <td>AUG</td>\n",
       "      <td>BEEF</td>\n",
       "      <td>778</td>\n",
       "    </tr>\n",
       "    <tr>\n",
       "      <th>3</th>\n",
       "      <td>2016</td>\n",
       "      <td>CARLOW</td>\n",
       "      <td>AUG</td>\n",
       "      <td>DAIRY</td>\n",
       "      <td>80</td>\n",
       "    </tr>\n",
       "    <tr>\n",
       "      <th>4</th>\n",
       "      <td>2016</td>\n",
       "      <td>CARLOW</td>\n",
       "      <td>DEC</td>\n",
       "      <td>BEEF</td>\n",
       "      <td>835</td>\n",
       "    </tr>\n",
       "  </tbody>\n",
       "</table>\n",
       "</div>"
      ],
      "text/plain": [
       "   BIRTH_YEAR COUNTY_ORIGIN BIRTH_MONTH CALF_BREED_TYPE  TOTAL_BIRTH\n",
       "0        2016        CARLOW         APR            BEEF         3670\n",
       "1        2016        CARLOW         APR           DAIRY          680\n",
       "2        2016        CARLOW         AUG            BEEF          778\n",
       "3        2016        CARLOW         AUG           DAIRY           80\n",
       "4        2016        CARLOW         DEC            BEEF          835"
      ]
     },
     "execution_count": 5,
     "metadata": {},
     "output_type": "execute_result"
    }
   ],
   "source": [
    "data_Births.head(5)"
   ]
  },
  {
   "cell_type": "code",
   "execution_count": 6,
   "id": "ec3df1f8",
   "metadata": {},
   "outputs": [
    {
     "data": {
      "text/plain": [
       "count      624.000000\n",
       "mean      3654.964744\n",
       "std       7010.470855\n",
       "min          6.000000\n",
       "25%        454.500000\n",
       "50%       1561.500000\n",
       "75%       3825.750000\n",
       "max      95720.000000\n",
       "Name: TOTAL_BIRTH, dtype: float64"
      ]
     },
     "execution_count": 6,
     "metadata": {},
     "output_type": "execute_result"
    }
   ],
   "source": [
    "data_Births['TOTAL_BIRTH'].describe(include='all')"
   ]
  },
  {
   "cell_type": "markdown",
   "id": "0fef4c2a",
   "metadata": {},
   "source": [
    "<h2>Created 95% confidence interval for population mean size</h2>"
   ]
  },
  {
   "cell_type": "code",
   "execution_count": 7,
   "id": "b2b59027",
   "metadata": {},
   "outputs": [
    {
     "data": {
      "text/plain": [
       "(3103.843027719479, 4206.086459460009)"
      ]
     },
     "execution_count": 7,
     "metadata": {},
     "output_type": "execute_result"
    }
   ],
   "source": [
    "data = data_Births['TOTAL_BIRTH']\n",
    "#create 95% confidence interval for population mean births\n",
    "st.t.interval(alpha=0.95, df=len(data)-1, loc=np.mean(data), scale=st.sem(data)) "
   ]
  },
  {
   "cell_type": "markdown",
   "id": "ef8b5a40",
   "metadata": {},
   "source": [
    "There is a 95% chance that the confidence interval of [3103.843027719479, 4206.086459460009] contains the true population mean of cattle Births."
   ]
  },
  {
   "cell_type": "markdown",
   "id": "734cb75c",
   "metadata": {},
   "source": [
    "<h2>Created 99% confidence interval for population mean size</h2>"
   ]
  },
  {
   "cell_type": "code",
   "execution_count": 8,
   "id": "ecb6ca04",
   "metadata": {},
   "outputs": [
    {
     "data": {
      "text/plain": [
       "(2932.075149970884, 4377.854337208603)"
      ]
     },
     "execution_count": 8,
     "metadata": {},
     "output_type": "execute_result"
    }
   ],
   "source": [
    "#create 99% confidence interval for population mean births\n",
    "st.norm.interval(alpha=0.99, loc=np.mean(data), scale=st.sem(data))"
   ]
  },
  {
   "cell_type": "markdown",
   "id": "4afd5937",
   "metadata": {},
   "source": [
    "There is a 99% chance that the confidence interval of [2932.075149970884, 4377.854337208603] contains the true population mean of cattle Births."
   ]
  },
  {
   "cell_type": "markdown",
   "id": "2b0a1b1f",
   "metadata": {},
   "source": [
    "<h1>Converting data to categorical</h1>\n",
    "I converted the data into categorical for the month of cattle birth and breed type.\n",
    "</br>\n",
    "<b>Where:</b>\n",
    "JAN:1\n",
    "FEB:2\n",
    "MAR:3\n",
    "APR:4\n",
    "MAY:5\n",
    "JUN:6\n",
    "JUL:7\n",
    "AUG:8\n",
    "SEP:9\n",
    "OCT:10\n",
    "NOV:11\n",
    "DEC:12\n",
    "</br>\n",
    "<b>and</b> \n",
    "</br>\n",
    "BEEF:1\n",
    "DAIRY:2"
   ]
  },
  {
   "cell_type": "code",
   "execution_count": 9,
   "id": "fb7d018f",
   "metadata": {},
   "outputs": [
    {
     "data": {
      "text/html": [
       "<div>\n",
       "<style scoped>\n",
       "    .dataframe tbody tr th:only-of-type {\n",
       "        vertical-align: middle;\n",
       "    }\n",
       "\n",
       "    .dataframe tbody tr th {\n",
       "        vertical-align: top;\n",
       "    }\n",
       "\n",
       "    .dataframe thead th {\n",
       "        text-align: right;\n",
       "    }\n",
       "</style>\n",
       "<table border=\"1\" class=\"dataframe\">\n",
       "  <thead>\n",
       "    <tr style=\"text-align: right;\">\n",
       "      <th></th>\n",
       "      <th>BIRTH_YEAR</th>\n",
       "      <th>COUNTY_ORIGIN</th>\n",
       "      <th>BIRTH_MONTH</th>\n",
       "      <th>CALF_BREED_TYPE</th>\n",
       "      <th>TOTAL_BIRTH</th>\n",
       "    </tr>\n",
       "  </thead>\n",
       "  <tbody>\n",
       "    <tr>\n",
       "      <th>0</th>\n",
       "      <td>2016</td>\n",
       "      <td>CARLOW</td>\n",
       "      <td>4</td>\n",
       "      <td>BEEF</td>\n",
       "      <td>3670</td>\n",
       "    </tr>\n",
       "    <tr>\n",
       "      <th>1</th>\n",
       "      <td>2016</td>\n",
       "      <td>CARLOW</td>\n",
       "      <td>4</td>\n",
       "      <td>DAIRY</td>\n",
       "      <td>680</td>\n",
       "    </tr>\n",
       "    <tr>\n",
       "      <th>2</th>\n",
       "      <td>2016</td>\n",
       "      <td>CARLOW</td>\n",
       "      <td>8</td>\n",
       "      <td>BEEF</td>\n",
       "      <td>778</td>\n",
       "    </tr>\n",
       "    <tr>\n",
       "      <th>3</th>\n",
       "      <td>2016</td>\n",
       "      <td>CARLOW</td>\n",
       "      <td>8</td>\n",
       "      <td>DAIRY</td>\n",
       "      <td>80</td>\n",
       "    </tr>\n",
       "    <tr>\n",
       "      <th>4</th>\n",
       "      <td>2016</td>\n",
       "      <td>CARLOW</td>\n",
       "      <td>12</td>\n",
       "      <td>BEEF</td>\n",
       "      <td>835</td>\n",
       "    </tr>\n",
       "    <tr>\n",
       "      <th>...</th>\n",
       "      <td>...</td>\n",
       "      <td>...</td>\n",
       "      <td>...</td>\n",
       "      <td>...</td>\n",
       "      <td>...</td>\n",
       "    </tr>\n",
       "    <tr>\n",
       "      <th>619</th>\n",
       "      <td>2016</td>\n",
       "      <td>WICKLOW</td>\n",
       "      <td>11</td>\n",
       "      <td>DAIRY</td>\n",
       "      <td>956</td>\n",
       "    </tr>\n",
       "    <tr>\n",
       "      <th>620</th>\n",
       "      <td>2016</td>\n",
       "      <td>WICKLOW</td>\n",
       "      <td>10</td>\n",
       "      <td>BEEF</td>\n",
       "      <td>1308</td>\n",
       "    </tr>\n",
       "    <tr>\n",
       "      <th>621</th>\n",
       "      <td>2016</td>\n",
       "      <td>WICKLOW</td>\n",
       "      <td>10</td>\n",
       "      <td>DAIRY</td>\n",
       "      <td>1217</td>\n",
       "    </tr>\n",
       "    <tr>\n",
       "      <th>622</th>\n",
       "      <td>2016</td>\n",
       "      <td>WICKLOW</td>\n",
       "      <td>9</td>\n",
       "      <td>BEEF</td>\n",
       "      <td>1210</td>\n",
       "    </tr>\n",
       "    <tr>\n",
       "      <th>623</th>\n",
       "      <td>2016</td>\n",
       "      <td>WICKLOW</td>\n",
       "      <td>9</td>\n",
       "      <td>DAIRY</td>\n",
       "      <td>879</td>\n",
       "    </tr>\n",
       "  </tbody>\n",
       "</table>\n",
       "<p>624 rows × 5 columns</p>\n",
       "</div>"
      ],
      "text/plain": [
       "     BIRTH_YEAR COUNTY_ORIGIN BIRTH_MONTH CALF_BREED_TYPE  TOTAL_BIRTH\n",
       "0          2016        CARLOW           4            BEEF         3670\n",
       "1          2016        CARLOW           4           DAIRY          680\n",
       "2          2016        CARLOW           8            BEEF          778\n",
       "3          2016        CARLOW           8           DAIRY           80\n",
       "4          2016        CARLOW          12            BEEF          835\n",
       "..          ...           ...         ...             ...          ...\n",
       "619        2016       WICKLOW          11           DAIRY          956\n",
       "620        2016       WICKLOW          10            BEEF         1308\n",
       "621        2016       WICKLOW          10           DAIRY         1217\n",
       "622        2016       WICKLOW           9            BEEF         1210\n",
       "623        2016       WICKLOW           9           DAIRY          879\n",
       "\n",
       "[624 rows x 5 columns]"
      ]
     },
     "metadata": {},
     "output_type": "display_data"
    }
   ],
   "source": [
    "data_Births['BIRTH_MONTH'] = data_Births['BIRTH_MONTH'].replace(['JAN','FEB','MAR','APR','MAY','JUN','JUL','AUG','SEP','OCT','NOV','DEC'],['1','2','3','4','5','6','7','8','9','10','11','12'])\n",
    "display(data_Births)"
   ]
  },
  {
   "cell_type": "code",
   "execution_count": 10,
   "id": "f56822e4",
   "metadata": {},
   "outputs": [
    {
     "data": {
      "text/html": [
       "<div>\n",
       "<style scoped>\n",
       "    .dataframe tbody tr th:only-of-type {\n",
       "        vertical-align: middle;\n",
       "    }\n",
       "\n",
       "    .dataframe tbody tr th {\n",
       "        vertical-align: top;\n",
       "    }\n",
       "\n",
       "    .dataframe thead th {\n",
       "        text-align: right;\n",
       "    }\n",
       "</style>\n",
       "<table border=\"1\" class=\"dataframe\">\n",
       "  <thead>\n",
       "    <tr style=\"text-align: right;\">\n",
       "      <th></th>\n",
       "      <th>BIRTH_YEAR</th>\n",
       "      <th>COUNTY_ORIGIN</th>\n",
       "      <th>BIRTH_MONTH</th>\n",
       "      <th>CALF_BREED_TYPE</th>\n",
       "      <th>TOTAL_BIRTH</th>\n",
       "    </tr>\n",
       "  </thead>\n",
       "  <tbody>\n",
       "    <tr>\n",
       "      <th>0</th>\n",
       "      <td>2016</td>\n",
       "      <td>CARLOW</td>\n",
       "      <td>4</td>\n",
       "      <td>1</td>\n",
       "      <td>3670</td>\n",
       "    </tr>\n",
       "    <tr>\n",
       "      <th>1</th>\n",
       "      <td>2016</td>\n",
       "      <td>CARLOW</td>\n",
       "      <td>4</td>\n",
       "      <td>2</td>\n",
       "      <td>680</td>\n",
       "    </tr>\n",
       "    <tr>\n",
       "      <th>2</th>\n",
       "      <td>2016</td>\n",
       "      <td>CARLOW</td>\n",
       "      <td>8</td>\n",
       "      <td>1</td>\n",
       "      <td>778</td>\n",
       "    </tr>\n",
       "    <tr>\n",
       "      <th>3</th>\n",
       "      <td>2016</td>\n",
       "      <td>CARLOW</td>\n",
       "      <td>8</td>\n",
       "      <td>2</td>\n",
       "      <td>80</td>\n",
       "    </tr>\n",
       "    <tr>\n",
       "      <th>4</th>\n",
       "      <td>2016</td>\n",
       "      <td>CARLOW</td>\n",
       "      <td>12</td>\n",
       "      <td>1</td>\n",
       "      <td>835</td>\n",
       "    </tr>\n",
       "    <tr>\n",
       "      <th>...</th>\n",
       "      <td>...</td>\n",
       "      <td>...</td>\n",
       "      <td>...</td>\n",
       "      <td>...</td>\n",
       "      <td>...</td>\n",
       "    </tr>\n",
       "    <tr>\n",
       "      <th>619</th>\n",
       "      <td>2016</td>\n",
       "      <td>WICKLOW</td>\n",
       "      <td>11</td>\n",
       "      <td>2</td>\n",
       "      <td>956</td>\n",
       "    </tr>\n",
       "    <tr>\n",
       "      <th>620</th>\n",
       "      <td>2016</td>\n",
       "      <td>WICKLOW</td>\n",
       "      <td>10</td>\n",
       "      <td>1</td>\n",
       "      <td>1308</td>\n",
       "    </tr>\n",
       "    <tr>\n",
       "      <th>621</th>\n",
       "      <td>2016</td>\n",
       "      <td>WICKLOW</td>\n",
       "      <td>10</td>\n",
       "      <td>2</td>\n",
       "      <td>1217</td>\n",
       "    </tr>\n",
       "    <tr>\n",
       "      <th>622</th>\n",
       "      <td>2016</td>\n",
       "      <td>WICKLOW</td>\n",
       "      <td>9</td>\n",
       "      <td>1</td>\n",
       "      <td>1210</td>\n",
       "    </tr>\n",
       "    <tr>\n",
       "      <th>623</th>\n",
       "      <td>2016</td>\n",
       "      <td>WICKLOW</td>\n",
       "      <td>9</td>\n",
       "      <td>2</td>\n",
       "      <td>879</td>\n",
       "    </tr>\n",
       "  </tbody>\n",
       "</table>\n",
       "<p>624 rows × 5 columns</p>\n",
       "</div>"
      ],
      "text/plain": [
       "     BIRTH_YEAR COUNTY_ORIGIN BIRTH_MONTH CALF_BREED_TYPE  TOTAL_BIRTH\n",
       "0          2016        CARLOW           4               1         3670\n",
       "1          2016        CARLOW           4               2          680\n",
       "2          2016        CARLOW           8               1          778\n",
       "3          2016        CARLOW           8               2           80\n",
       "4          2016        CARLOW          12               1          835\n",
       "..          ...           ...         ...             ...          ...\n",
       "619        2016       WICKLOW          11               2          956\n",
       "620        2016       WICKLOW          10               1         1308\n",
       "621        2016       WICKLOW          10               2         1217\n",
       "622        2016       WICKLOW           9               1         1210\n",
       "623        2016       WICKLOW           9               2          879\n",
       "\n",
       "[624 rows x 5 columns]"
      ]
     },
     "metadata": {},
     "output_type": "display_data"
    },
    {
     "name": "stdout",
     "output_type": "stream",
     "text": [
      "<class 'pandas.core.frame.DataFrame'>\n",
      "RangeIndex: 624 entries, 0 to 623\n",
      "Data columns (total 5 columns):\n",
      " #   Column           Non-Null Count  Dtype \n",
      "---  ------           --------------  ----- \n",
      " 0   BIRTH_YEAR       624 non-null    int64 \n",
      " 1   COUNTY_ORIGIN    624 non-null    object\n",
      " 2   BIRTH_MONTH      624 non-null    object\n",
      " 3   CALF_BREED_TYPE  624 non-null    object\n",
      " 4   TOTAL_BIRTH      624 non-null    int64 \n",
      "dtypes: int64(2), object(3)\n",
      "memory usage: 24.5+ KB\n"
     ]
    }
   ],
   "source": [
    "data_Births['CALF_BREED_TYPE'] = data_Births['CALF_BREED_TYPE'].replace(['BEEF','DAIRY'],['1','2'])\n",
    "display(data_Births)\n",
    "data_Births.info()"
   ]
  },
  {
   "cell_type": "markdown",
   "id": "9f569620",
   "metadata": {},
   "source": [
    "I converted the column to an int data type after encoding it as a numeric value which allowed me to use seaborn to visualize the confidence interval of the total births against the months we encoded earlier."
   ]
  },
  {
   "cell_type": "code",
   "execution_count": 11,
   "id": "29b95ce3",
   "metadata": {},
   "outputs": [
    {
     "data": {
      "image/png": "[encoded data removed]",
      "text/plain": [
       "<Figure size 432x288 with 1 Axes>"
      ]
     },
     "metadata": {
      "needs_background": "light"
     },
     "output_type": "display_data"
    }
   ],
   "source": [
    "data_Births['BIRTH_MONTH'] = data_Births['BIRTH_MONTH'].astype('int')\n",
    "ax = sns.regplot(data_Births['BIRTH_MONTH'],data_Births['TOTAL_BIRTH'])"
   ]
  },
  {
   "cell_type": "code",
   "execution_count": 12,
   "id": "366c7f84",
   "metadata": {},
   "outputs": [
    {
     "data": {
      "text/plain": [
       "<seaborn.axisgrid.PairGrid at 0x20b93198ee0>"
      ]
     },
     "execution_count": 12,
     "metadata": {},
     "output_type": "execute_result"
    },
    {
     "data": {
      "image/png": "[encoded data removed]",
      "text/plain": [
       "<Figure size 540x540 with 12 Axes>"
      ]
     },
     "metadata": {
      "needs_background": "light"
     },
     "output_type": "display_data"
    }
   ],
   "source": [
    "sns.pairplot(data_Births)"
   ]
  },
  {
   "cell_type": "code",
   "execution_count": 13,
   "id": "1ee7517f",
   "metadata": {},
   "outputs": [
    {
     "data": {
      "image/png": "[encoded data removed]",
      "text/plain": [
       "<Figure size 432x288 with 1 Axes>"
      ]
     },
     "metadata": {
      "needs_background": "light"
     },
     "output_type": "display_data"
    }
   ],
   "source": [
    "sns.distplot(data_Births['TOTAL_BIRTH']).set(title='Distribution of cattle births')\n",
    "plt.show()"
   ]
  },
  {
   "cell_type": "code",
   "execution_count": 14,
   "id": "7749d2b4",
   "metadata": {},
   "outputs": [
    {
     "data": {
      "image/png": "[encoded data removed]",
      "text/plain": [
       "<Figure size 432x288 with 1 Axes>"
      ]
     },
     "metadata": {},
     "output_type": "display_data"
    },
    {
     "data": {
      "text/plain": [
       "<Figure size 7200x4800 with 0 Axes>"
      ]
     },
     "metadata": {},
     "output_type": "display_data"
    }
   ],
   "source": [
    "import matplotlib.pyplot as plt \n",
    "sizes= data_Births['CALF_BREED_TYPE'].value_counts()\n",
    "colors=['red', 'yellow']\n",
    "labels= ['Beef', 'Dairy']\n",
    "plt.pie(sizes, labels=labels, colors=colors ,startangle=90, shadow=True, explode=(0.2, 0.1) ,autopct='%1.0f%%')\n",
    "plt.title('Breakdown of beef and dairy data')\n",
    "plt.axis('equal')\n",
    "plt.legend(labels, loc=\"best\")\n",
    "plt.figure(dpi=1200)\n",
    "plt.show()"
   ]
  },
  {
   "cell_type": "markdown",
   "id": "12178d01",
   "metadata": {},
   "source": [
    "As we can see the data for the cattle births is equaly distributed for the Dairy and Beef. Meaning the data has a valid amount of entrees for both groups of cultivated animals and holds integrity."
   ]
  },
  {
   "cell_type": "markdown",
   "id": "b8eed022",
   "metadata": {},
   "source": [
    "# Dairy Supply Data"
   ]
  },
  {
   "cell_type": "code",
   "execution_count": 15,
   "id": "09ee18de",
   "metadata": {},
   "outputs": [
    {
     "name": "stdout",
     "output_type": "stream",
     "text": [
      "<class 'pandas.core.frame.DataFrame'>\n",
      "RangeIndex: 1100 entries, 0 to 1099\n",
      "Data columns (total 8 columns):\n",
      " #   Column           Non-Null Count  Dtype  \n",
      "---  ------           --------------  -----  \n",
      " 0   STATISTIC        1100 non-null   object \n",
      " 1   Statistic Label  1100 non-null   object \n",
      " 2   TLIST(A1)        1100 non-null   int64  \n",
      " 3   Year             1100 non-null   int64  \n",
      " 4   C02064V02491     1100 non-null   int64  \n",
      " 5   Product Type     1100 non-null   object \n",
      " 6   UNIT             1100 non-null   object \n",
      " 7   VALUE            893 non-null    float64\n",
      "dtypes: float64(1), int64(3), object(4)\n",
      "memory usage: 68.9+ KB\n"
     ]
    }
   ],
   "source": [
    "data_Supply.info()"
   ]
  },
  {
   "cell_type": "code",
   "execution_count": 16,
   "id": "2d0ed562",
   "metadata": {},
   "outputs": [
    {
     "data": {
      "text/html": [
       "<div>\n",
       "<style scoped>\n",
       "    .dataframe tbody tr th:only-of-type {\n",
       "        vertical-align: middle;\n",
       "    }\n",
       "\n",
       "    .dataframe tbody tr th {\n",
       "        vertical-align: top;\n",
       "    }\n",
       "\n",
       "    .dataframe thead th {\n",
       "        text-align: right;\n",
       "    }\n",
       "</style>\n",
       "<table border=\"1\" class=\"dataframe\">\n",
       "  <thead>\n",
       "    <tr style=\"text-align: right;\">\n",
       "      <th></th>\n",
       "      <th>STATISTIC</th>\n",
       "      <th>Statistic Label</th>\n",
       "      <th>TLIST(A1)</th>\n",
       "      <th>Year</th>\n",
       "      <th>C02064V02491</th>\n",
       "      <th>Product Type</th>\n",
       "      <th>UNIT</th>\n",
       "      <th>VALUE</th>\n",
       "    </tr>\n",
       "  </thead>\n",
       "  <tbody>\n",
       "    <tr>\n",
       "      <th>0</th>\n",
       "      <td>ABA02C01</td>\n",
       "      <td>Usable Dairy Production</td>\n",
       "      <td>1992</td>\n",
       "      <td>1992</td>\n",
       "      <td>3</td>\n",
       "      <td>Cheese</td>\n",
       "      <td>Tonnes</td>\n",
       "      <td>94.0</td>\n",
       "    </tr>\n",
       "    <tr>\n",
       "      <th>1</th>\n",
       "      <td>ABA02C01</td>\n",
       "      <td>Usable Dairy Production</td>\n",
       "      <td>1992</td>\n",
       "      <td>1992</td>\n",
       "      <td>4</td>\n",
       "      <td>Butter</td>\n",
       "      <td>Tonnes</td>\n",
       "      <td>144.0</td>\n",
       "    </tr>\n",
       "    <tr>\n",
       "      <th>2</th>\n",
       "      <td>ABA02C01</td>\n",
       "      <td>Usable Dairy Production</td>\n",
       "      <td>1992</td>\n",
       "      <td>1992</td>\n",
       "      <td>5</td>\n",
       "      <td>Cream</td>\n",
       "      <td>Tonnes</td>\n",
       "      <td>21.0</td>\n",
       "    </tr>\n",
       "    <tr>\n",
       "      <th>3</th>\n",
       "      <td>ABA02C01</td>\n",
       "      <td>Usable Dairy Production</td>\n",
       "      <td>1992</td>\n",
       "      <td>1992</td>\n",
       "      <td>6</td>\n",
       "      <td>Milk Powder</td>\n",
       "      <td>Tonnes</td>\n",
       "      <td>157.0</td>\n",
       "    </tr>\n",
       "    <tr>\n",
       "      <th>4</th>\n",
       "      <td>ABA02C01</td>\n",
       "      <td>Usable Dairy Production</td>\n",
       "      <td>1992</td>\n",
       "      <td>1992</td>\n",
       "      <td>11</td>\n",
       "      <td>Drinking Milk &amp; Buttermilk</td>\n",
       "      <td>Tonnes</td>\n",
       "      <td>615.0</td>\n",
       "    </tr>\n",
       "  </tbody>\n",
       "</table>\n",
       "</div>"
      ],
      "text/plain": [
       "  STATISTIC          Statistic Label  TLIST(A1)  Year  C02064V02491  \\\n",
       "0  ABA02C01  Usable Dairy Production       1992  1992             3   \n",
       "1  ABA02C01  Usable Dairy Production       1992  1992             4   \n",
       "2  ABA02C01  Usable Dairy Production       1992  1992             5   \n",
       "3  ABA02C01  Usable Dairy Production       1992  1992             6   \n",
       "4  ABA02C01  Usable Dairy Production       1992  1992            11   \n",
       "\n",
       "                 Product Type    UNIT  VALUE  \n",
       "0                      Cheese  Tonnes   94.0  \n",
       "1                      Butter  Tonnes  144.0  \n",
       "2                       Cream  Tonnes   21.0  \n",
       "3                 Milk Powder  Tonnes  157.0  \n",
       "4  Drinking Milk & Buttermilk  Tonnes  615.0  "
      ]
     },
     "execution_count": 16,
     "metadata": {},
     "output_type": "execute_result"
    }
   ],
   "source": [
    "data_Supply.head(5)"
   ]
  },
  {
   "cell_type": "code",
   "execution_count": 17,
   "id": "e08f33c2",
   "metadata": {},
   "outputs": [
    {
     "data": {
      "text/plain": [
       "count    1100.000000\n",
       "mean      126.300000\n",
       "std       216.792444\n",
       "min      -144.000000\n",
       "25%         7.000000\n",
       "50%        33.000000\n",
       "75%       126.000000\n",
       "max      1794.000000\n",
       "Name: VALUE, dtype: float64"
      ]
     },
     "execution_count": 17,
     "metadata": {},
     "output_type": "execute_result"
    }
   ],
   "source": [
    "data_Supply['VALUE'] = data_Supply['VALUE'].fillna(data_Supply['VALUE'].mean())\n",
    "data_Supply['VALUE'] = data_Supply['VALUE'].astype(int)\n",
    "data_Supply['VALUE'].describe(include='all')"
   ]
  },
  {
   "cell_type": "code",
   "execution_count": 18,
   "id": "3770e66b",
   "metadata": {},
   "outputs": [
    {
     "data": {
      "image/png": "[encoded data removed]",
      "text/plain": [
       "<Figure size 432x288 with 1 Axes>"
      ]
     },
     "metadata": {
      "needs_background": "light"
     },
     "output_type": "display_data"
    }
   ],
   "source": [
    "sns.distplot(data_Supply['VALUE']).set(title='Distribution of Value of dairy distributed')\n",
    "plt.show()"
   ]
  },
  {
   "cell_type": "markdown",
   "id": "fdb3723e",
   "metadata": {},
   "source": [
    "<h1>Stratified Sampling</h1>\n",
    "I have used Stratified Sampling, the population is divided into groups based on characteristics.\n",
    "The two data charachteristics I chose for the strata are 'Year' and 'Product Type\t' "
   ]
  },
  {
   "cell_type": "code",
   "execution_count": 19,
   "id": "3a3bf7cc",
   "metadata": {},
   "outputs": [
    {
     "data": {
      "text/html": [
       "<div>\n",
       "<style scoped>\n",
       "    .dataframe tbody tr th:only-of-type {\n",
       "        vertical-align: middle;\n",
       "    }\n",
       "\n",
       "    .dataframe tbody tr th {\n",
       "        vertical-align: top;\n",
       "    }\n",
       "\n",
       "    .dataframe thead th {\n",
       "        text-align: right;\n",
       "    }\n",
       "</style>\n",
       "<table border=\"1\" class=\"dataframe\">\n",
       "  <thead>\n",
       "    <tr style=\"text-align: right;\">\n",
       "      <th></th>\n",
       "      <th>STATISTIC</th>\n",
       "      <th>Statistic Label</th>\n",
       "      <th>TLIST(A1)</th>\n",
       "      <th>Year</th>\n",
       "      <th>C02064V02491</th>\n",
       "      <th>Product Type</th>\n",
       "      <th>UNIT</th>\n",
       "      <th>VALUE</th>\n",
       "    </tr>\n",
       "  </thead>\n",
       "  <tbody>\n",
       "    <tr>\n",
       "      <th>601</th>\n",
       "      <td>ABA02C07</td>\n",
       "      <td>Dairy Products for Industrial Uses</td>\n",
       "      <td>1992</td>\n",
       "      <td>1992</td>\n",
       "      <td>4</td>\n",
       "      <td>Butter</td>\n",
       "      <td>Tonnes</td>\n",
       "      <td>5</td>\n",
       "    </tr>\n",
       "    <tr>\n",
       "      <th>0</th>\n",
       "      <td>ABA02C01</td>\n",
       "      <td>Usable Dairy Production</td>\n",
       "      <td>1992</td>\n",
       "      <td>1992</td>\n",
       "      <td>3</td>\n",
       "      <td>Cheese</td>\n",
       "      <td>Tonnes</td>\n",
       "      <td>94</td>\n",
       "    </tr>\n",
       "    <tr>\n",
       "      <th>302</th>\n",
       "      <td>ABA02C04</td>\n",
       "      <td>Dairy Exports</td>\n",
       "      <td>1992</td>\n",
       "      <td>1992</td>\n",
       "      <td>5</td>\n",
       "      <td>Cream</td>\n",
       "      <td>Tonnes</td>\n",
       "      <td>2</td>\n",
       "    </tr>\n",
       "    <tr>\n",
       "      <th>404</th>\n",
       "      <td>ABA02C05</td>\n",
       "      <td>Variation in Dairy Stocks</td>\n",
       "      <td>1992</td>\n",
       "      <td>1992</td>\n",
       "      <td>11</td>\n",
       "      <td>Drinking Milk &amp; Buttermilk</td>\n",
       "      <td>Tonnes</td>\n",
       "      <td>0</td>\n",
       "    </tr>\n",
       "    <tr>\n",
       "      <th>603</th>\n",
       "      <td>ABA02C07</td>\n",
       "      <td>Dairy Products for Industrial Uses</td>\n",
       "      <td>1992</td>\n",
       "      <td>1992</td>\n",
       "      <td>6</td>\n",
       "      <td>Milk Powder</td>\n",
       "      <td>Tonnes</td>\n",
       "      <td>9</td>\n",
       "    </tr>\n",
       "    <tr>\n",
       "      <th>...</th>\n",
       "      <td>...</td>\n",
       "      <td>...</td>\n",
       "      <td>...</td>\n",
       "      <td>...</td>\n",
       "      <td>...</td>\n",
       "      <td>...</td>\n",
       "      <td>...</td>\n",
       "      <td>...</td>\n",
       "    </tr>\n",
       "    <tr>\n",
       "      <th>196</th>\n",
       "      <td>ABA02C02</td>\n",
       "      <td>Dairy Imports</td>\n",
       "      <td>2011</td>\n",
       "      <td>2011</td>\n",
       "      <td>4</td>\n",
       "      <td>Butter</td>\n",
       "      <td>Tonnes</td>\n",
       "      <td>7</td>\n",
       "    </tr>\n",
       "    <tr>\n",
       "      <th>995</th>\n",
       "      <td>ABA02C10</td>\n",
       "      <td>Consumption per Person of Dairy Products (Kg)</td>\n",
       "      <td>2011</td>\n",
       "      <td>2011</td>\n",
       "      <td>3</td>\n",
       "      <td>Cheese</td>\n",
       "      <td>Kg</td>\n",
       "      <td>7</td>\n",
       "    </tr>\n",
       "    <tr>\n",
       "      <th>597</th>\n",
       "      <td>ABA02C06</td>\n",
       "      <td>Dairy Products for Domestic Use</td>\n",
       "      <td>2011</td>\n",
       "      <td>2011</td>\n",
       "      <td>5</td>\n",
       "      <td>Cream</td>\n",
       "      <td>Tonnes</td>\n",
       "      <td>25</td>\n",
       "    </tr>\n",
       "    <tr>\n",
       "      <th>999</th>\n",
       "      <td>ABA02C10</td>\n",
       "      <td>Consumption per Person of Dairy Products (Kg)</td>\n",
       "      <td>2011</td>\n",
       "      <td>2011</td>\n",
       "      <td>11</td>\n",
       "      <td>Drinking Milk &amp; Buttermilk</td>\n",
       "      <td>Kg</td>\n",
       "      <td>126</td>\n",
       "    </tr>\n",
       "    <tr>\n",
       "      <th>198</th>\n",
       "      <td>ABA02C02</td>\n",
       "      <td>Dairy Imports</td>\n",
       "      <td>2011</td>\n",
       "      <td>2011</td>\n",
       "      <td>6</td>\n",
       "      <td>Milk Powder</td>\n",
       "      <td>Tonnes</td>\n",
       "      <td>10</td>\n",
       "    </tr>\n",
       "  </tbody>\n",
       "</table>\n",
       "<p>100 rows × 8 columns</p>\n",
       "</div>"
      ],
      "text/plain": [
       "    STATISTIC                                Statistic Label  TLIST(A1)  Year  \\\n",
       "601  ABA02C07             Dairy Products for Industrial Uses       1992  1992   \n",
       "0    ABA02C01                        Usable Dairy Production       1992  1992   \n",
       "302  ABA02C04                                  Dairy Exports       1992  1992   \n",
       "404  ABA02C05                      Variation in Dairy Stocks       1992  1992   \n",
       "603  ABA02C07             Dairy Products for Industrial Uses       1992  1992   \n",
       "..        ...                                            ...        ...   ...   \n",
       "196  ABA02C02                                  Dairy Imports       2011  2011   \n",
       "995  ABA02C10  Consumption per Person of Dairy Products (Kg)       2011  2011   \n",
       "597  ABA02C06                Dairy Products for Domestic Use       2011  2011   \n",
       "999  ABA02C10  Consumption per Person of Dairy Products (Kg)       2011  2011   \n",
       "198  ABA02C02                                  Dairy Imports       2011  2011   \n",
       "\n",
       "     C02064V02491                Product Type    UNIT  VALUE  \n",
       "601             4                      Butter  Tonnes      5  \n",
       "0               3                      Cheese  Tonnes     94  \n",
       "302             5                       Cream  Tonnes      2  \n",
       "404            11  Drinking Milk & Buttermilk  Tonnes      0  \n",
       "603             6                 Milk Powder  Tonnes      9  \n",
       "..            ...                         ...     ...    ...  \n",
       "196             4                      Butter  Tonnes      7  \n",
       "995             3                      Cheese      Kg      7  \n",
       "597             5                       Cream  Tonnes     25  \n",
       "999            11  Drinking Milk & Buttermilk      Kg    126  \n",
       "198             6                 Milk Powder  Tonnes     10  \n",
       "\n",
       "[100 rows x 8 columns]"
      ]
     },
     "execution_count": 19,
     "metadata": {},
     "output_type": "execute_result"
    }
   ],
   "source": [
    "data_Supply.groupby(['Year','Product Type'], group_keys=False).apply(lambda x: x.sample(1))"
   ]
  },
  {
   "cell_type": "markdown",
   "id": "01623dd7",
   "metadata": {},
   "source": [
    "I will drop the unneccesary column as we have no background information on what data that feature represents or a reference to transforems the data into a usable source."
   ]
  },
  {
   "cell_type": "code",
   "execution_count": 20,
   "id": "580115c0",
   "metadata": {},
   "outputs": [],
   "source": [
    "data_Supply = data_Supply.drop(['C02064V02491'], axis=1)"
   ]
  },
  {
   "cell_type": "code",
   "execution_count": 21,
   "id": "a75f751c",
   "metadata": {},
   "outputs": [
    {
     "data": {
      "text/plain": [
       "Cheese                        220\n",
       "Butter                        220\n",
       "Cream                         220\n",
       "Milk Powder                   220\n",
       "Drinking Milk & Buttermilk    220\n",
       "Name: Product Type, dtype: int64"
      ]
     },
     "execution_count": 21,
     "metadata": {},
     "output_type": "execute_result"
    }
   ],
   "source": [
    "data_Supply['Product Type'].value_counts()"
   ]
  },
  {
   "cell_type": "markdown",
   "id": "5e205645",
   "metadata": {},
   "source": [
    "Within the dataset for the sales of dairy throughout the years in Ireland we have 5 different categories representing the items as displayed with the value counts of the product type feature."
   ]
  },
  {
   "cell_type": "code",
   "execution_count": 22,
   "id": "0db2d986",
   "metadata": {},
   "outputs": [
    {
     "data": {
      "text/plain": [
       "<seaborn.axisgrid.PairGrid at 0x20b93b25040>"
      ]
     },
     "execution_count": 22,
     "metadata": {},
     "output_type": "execute_result"
    },
    {
     "data": {
      "image/png": "[encoded data removed]",
      "text/plain": [
       "<Figure size 540x540 with 12 Axes>"
      ]
     },
     "metadata": {
      "needs_background": "light"
     },
     "output_type": "display_data"
    }
   ],
   "source": [
    "sns.pairplot(data_Supply)"
   ]
  },
  {
   "cell_type": "markdown",
   "id": "fd8eee13",
   "metadata": {},
   "source": [
    "# EU Dairy Cattle Supply Data"
   ]
  },
  {
   "cell_type": "markdown",
   "id": "d858130a",
   "metadata": {},
   "source": [
    "<h3>Country Key ID's for Numeric Dataframe</h3>\n",
    "I have supplied the country codes for reference with use with the numeric only dataframe of EU Dairy cattle stocks.\n",
    "<ul>\n",
    "  <li>0: Austria</li>\n",
    "  <li>1: Belgium</li>\n",
    "  <li>2: Bulgaria</li>\n",
    "  <li>3: Croatia</li>\n",
    "  <li>4: Cyprus</li>\n",
    "  <li>5: Czechia</li>\n",
    "  <li>6: Denmark</li>\n",
    "  <li>7: Estonia</li>\n",
    "  <li>8: Finland</li>\n",
    "  <li>9: France</li>\n",
    "  <li>10: Germany</li>\n",
    "  <li>11: Greece</li>\n",
    "  <li>12: Hungary</li>\n",
    "  <li>13: Ireland</li>\n",
    "  <li>14: Italy</li>\n",
    "  <li>15: Lithuania</li>\n",
    "  <li>16: Luxembourg</li>\n",
    "  <li>17: Malta</li>\n",
    "  <li>19: Netherlands</li>\n",
    "  <li>20: Poland</li>\n",
    "  <li>21: Portugal</li>\n",
    "  <li>22: Romania</li>\n",
    "  <li>23: Slovakia</li>\n",
    "  <li>24: Slovenia</li>\n",
    "  <li>25: Spain</li>\n",
    "  <li>26: Sweden</li>\n",
    "</ul>"
   ]
  },
  {
   "cell_type": "code",
   "execution_count": 23,
   "id": "4c98db07",
   "metadata": {},
   "outputs": [
    {
     "data": {
      "text/html": [
       "<div>\n",
       "<style scoped>\n",
       "    .dataframe tbody tr th:only-of-type {\n",
       "        vertical-align: middle;\n",
       "    }\n",
       "\n",
       "    .dataframe tbody tr th {\n",
       "        vertical-align: top;\n",
       "    }\n",
       "\n",
       "    .dataframe thead th {\n",
       "        text-align: right;\n",
       "    }\n",
       "</style>\n",
       "<table border=\"1\" class=\"dataframe\">\n",
       "  <thead>\n",
       "    <tr style=\"text-align: right;\">\n",
       "      <th></th>\n",
       "      <th>Unnamed: 0</th>\n",
       "      <th>1998</th>\n",
       "      <th>1999</th>\n",
       "      <th>2000</th>\n",
       "      <th>2001</th>\n",
       "      <th>2002</th>\n",
       "      <th>2003</th>\n",
       "      <th>2004</th>\n",
       "      <th>2005</th>\n",
       "      <th>2006</th>\n",
       "      <th>...</th>\n",
       "      <th>2014</th>\n",
       "      <th>2015</th>\n",
       "      <th>2016</th>\n",
       "      <th>2017</th>\n",
       "      <th>2018</th>\n",
       "      <th>2019</th>\n",
       "      <th>2020</th>\n",
       "      <th>Unnamed: 24</th>\n",
       "      <th>Annual change</th>\n",
       "      <th>% change</th>\n",
       "    </tr>\n",
       "  </thead>\n",
       "  <tbody>\n",
       "    <tr>\n",
       "      <th>0</th>\n",
       "      <td>Austria</td>\n",
       "      <td>729</td>\n",
       "      <td>698</td>\n",
       "      <td>621</td>\n",
       "      <td>598</td>\n",
       "      <td>589</td>\n",
       "      <td>558</td>\n",
       "      <td>538</td>\n",
       "      <td>534</td>\n",
       "      <td>527</td>\n",
       "      <td>...</td>\n",
       "      <td>538</td>\n",
       "      <td>534</td>\n",
       "      <td>540</td>\n",
       "      <td>543</td>\n",
       "      <td>533</td>\n",
       "      <td>524</td>\n",
       "      <td>525</td>\n",
       "      <td>NaN</td>\n",
       "      <td>1.0</td>\n",
       "      <td>0.1%</td>\n",
       "    </tr>\n",
       "    <tr>\n",
       "      <th>1</th>\n",
       "      <td>Belgium</td>\n",
       "      <td>632</td>\n",
       "      <td>619</td>\n",
       "      <td>629</td>\n",
       "      <td>611</td>\n",
       "      <td>591</td>\n",
       "      <td>572</td>\n",
       "      <td>571</td>\n",
       "      <td>548</td>\n",
       "      <td>532</td>\n",
       "      <td>...</td>\n",
       "      <td>519</td>\n",
       "      <td>529</td>\n",
       "      <td>531</td>\n",
       "      <td>519</td>\n",
       "      <td>529</td>\n",
       "      <td>538</td>\n",
       "      <td>541</td>\n",
       "      <td>NaN</td>\n",
       "      <td>3.0</td>\n",
       "      <td>0.6%</td>\n",
       "    </tr>\n",
       "    <tr>\n",
       "      <th>2</th>\n",
       "      <td>Bulgaria</td>\n",
       "      <td>421</td>\n",
       "      <td>431</td>\n",
       "      <td>363</td>\n",
       "      <td>359</td>\n",
       "      <td>358</td>\n",
       "      <td>362</td>\n",
       "      <td>369</td>\n",
       "      <td>348</td>\n",
       "      <td>350</td>\n",
       "      <td>...</td>\n",
       "      <td>302</td>\n",
       "      <td>283</td>\n",
       "      <td>279</td>\n",
       "      <td>261</td>\n",
       "      <td>244</td>\n",
       "      <td>227</td>\n",
       "      <td>242</td>\n",
       "      <td>NaN</td>\n",
       "      <td>15.0</td>\n",
       "      <td>6.8%</td>\n",
       "    </tr>\n",
       "    <tr>\n",
       "      <th>3</th>\n",
       "      <td>Croatia</td>\n",
       "      <td>:</td>\n",
       "      <td>:</td>\n",
       "      <td>:</td>\n",
       "      <td>:</td>\n",
       "      <td>:</td>\n",
       "      <td>:</td>\n",
       "      <td>:</td>\n",
       "      <td>:</td>\n",
       "      <td>:</td>\n",
       "      <td>...</td>\n",
       "      <td>159</td>\n",
       "      <td>152</td>\n",
       "      <td>147</td>\n",
       "      <td>139</td>\n",
       "      <td>136</td>\n",
       "      <td>130</td>\n",
       "      <td>129</td>\n",
       "      <td>NaN</td>\n",
       "      <td>-1.0</td>\n",
       "      <td>-0.8%</td>\n",
       "    </tr>\n",
       "    <tr>\n",
       "      <th>4</th>\n",
       "      <td>Cyprus</td>\n",
       "      <td>24</td>\n",
       "      <td>24</td>\n",
       "      <td>24</td>\n",
       "      <td>24</td>\n",
       "      <td>26</td>\n",
       "      <td>27</td>\n",
       "      <td>26</td>\n",
       "      <td>25</td>\n",
       "      <td>24</td>\n",
       "      <td>...</td>\n",
       "      <td>25</td>\n",
       "      <td>26</td>\n",
       "      <td>28</td>\n",
       "      <td>30</td>\n",
       "      <td>32</td>\n",
       "      <td>35</td>\n",
       "      <td>37</td>\n",
       "      <td>NaN</td>\n",
       "      <td>2.0</td>\n",
       "      <td>4.8%</td>\n",
       "    </tr>\n",
       "    <tr>\n",
       "      <th>5</th>\n",
       "      <td>Czechia</td>\n",
       "      <td>583</td>\n",
       "      <td>548</td>\n",
       "      <td>529</td>\n",
       "      <td>496</td>\n",
       "      <td>464</td>\n",
       "      <td>449</td>\n",
       "      <td>429</td>\n",
       "      <td>437</td>\n",
       "      <td>417</td>\n",
       "      <td>...</td>\n",
       "      <td>372</td>\n",
       "      <td>369</td>\n",
       "      <td>367</td>\n",
       "      <td>365</td>\n",
       "      <td>359</td>\n",
       "      <td>361</td>\n",
       "      <td>357</td>\n",
       "      <td>NaN</td>\n",
       "      <td>-4.0</td>\n",
       "      <td>-1.2%</td>\n",
       "    </tr>\n",
       "    <tr>\n",
       "      <th>6</th>\n",
       "      <td>Denmark</td>\n",
       "      <td>680</td>\n",
       "      <td>681</td>\n",
       "      <td>644</td>\n",
       "      <td>628</td>\n",
       "      <td>613</td>\n",
       "      <td>589</td>\n",
       "      <td>569</td>\n",
       "      <td>558</td>\n",
       "      <td>555</td>\n",
       "      <td>...</td>\n",
       "      <td>547</td>\n",
       "      <td>570</td>\n",
       "      <td>565</td>\n",
       "      <td>575</td>\n",
       "      <td>570</td>\n",
       "      <td>563</td>\n",
       "      <td>565</td>\n",
       "      <td>NaN</td>\n",
       "      <td>2.0</td>\n",
       "      <td>0.4%</td>\n",
       "    </tr>\n",
       "    <tr>\n",
       "      <th>7</th>\n",
       "      <td>Estonia</td>\n",
       "      <td>159</td>\n",
       "      <td>138</td>\n",
       "      <td>131</td>\n",
       "      <td>129</td>\n",
       "      <td>116</td>\n",
       "      <td>117</td>\n",
       "      <td>117</td>\n",
       "      <td>113</td>\n",
       "      <td>109</td>\n",
       "      <td>...</td>\n",
       "      <td>96</td>\n",
       "      <td>91</td>\n",
       "      <td>86</td>\n",
       "      <td>86</td>\n",
       "      <td>85</td>\n",
       "      <td>85</td>\n",
       "      <td>84</td>\n",
       "      <td>NaN</td>\n",
       "      <td>-1.0</td>\n",
       "      <td>-0.8%</td>\n",
       "    </tr>\n",
       "    <tr>\n",
       "      <th>8</th>\n",
       "      <td>Finland</td>\n",
       "      <td>380</td>\n",
       "      <td>374</td>\n",
       "      <td>358</td>\n",
       "      <td>352</td>\n",
       "      <td>343</td>\n",
       "      <td>328</td>\n",
       "      <td>318</td>\n",
       "      <td>313</td>\n",
       "      <td>298</td>\n",
       "      <td>...</td>\n",
       "      <td>283</td>\n",
       "      <td>282</td>\n",
       "      <td>275</td>\n",
       "      <td>271</td>\n",
       "      <td>264</td>\n",
       "      <td>259</td>\n",
       "      <td>256</td>\n",
       "      <td>NaN</td>\n",
       "      <td>-3.0</td>\n",
       "      <td>-1.3%</td>\n",
       "    </tr>\n",
       "    <tr>\n",
       "      <th>9</th>\n",
       "      <td>France</td>\n",
       "      <td>4,432</td>\n",
       "      <td>4,424</td>\n",
       "      <td>4,153</td>\n",
       "      <td>4,197</td>\n",
       "      <td>4,134</td>\n",
       "      <td>4,026</td>\n",
       "      <td>3,947</td>\n",
       "      <td>3,895</td>\n",
       "      <td>3,799</td>\n",
       "      <td>...</td>\n",
       "      <td>3,661</td>\n",
       "      <td>3,637</td>\n",
       "      <td>3,637</td>\n",
       "      <td>3,597</td>\n",
       "      <td>3,554</td>\n",
       "      <td>3,491</td>\n",
       "      <td>3,434</td>\n",
       "      <td>NaN</td>\n",
       "      <td>-57.0</td>\n",
       "      <td>-1.6%</td>\n",
       "    </tr>\n",
       "    <tr>\n",
       "      <th>10</th>\n",
       "      <td>Germany</td>\n",
       "      <td>4,833</td>\n",
       "      <td>4,710</td>\n",
       "      <td>4,564</td>\n",
       "      <td>4,475</td>\n",
       "      <td>4,373</td>\n",
       "      <td>4,338</td>\n",
       "      <td>4,287</td>\n",
       "      <td>4,164</td>\n",
       "      <td>4,054</td>\n",
       "      <td>...</td>\n",
       "      <td>4,296</td>\n",
       "      <td>4,285</td>\n",
       "      <td>4,218</td>\n",
       "      <td>4,199</td>\n",
       "      <td>4,101</td>\n",
       "      <td>4,012</td>\n",
       "      <td>3,921</td>\n",
       "      <td>NaN</td>\n",
       "      <td>-90.0</td>\n",
       "      <td>-2.2%</td>\n",
       "    </tr>\n",
       "    <tr>\n",
       "      <th>11</th>\n",
       "      <td>Greece</td>\n",
       "      <td>172</td>\n",
       "      <td>154</td>\n",
       "      <td>180</td>\n",
       "      <td>172</td>\n",
       "      <td>152</td>\n",
       "      <td>149</td>\n",
       "      <td>150</td>\n",
       "      <td>152</td>\n",
       "      <td>168</td>\n",
       "      <td>...</td>\n",
       "      <td>135</td>\n",
       "      <td>111</td>\n",
       "      <td>106</td>\n",
       "      <td>97</td>\n",
       "      <td>95</td>\n",
       "      <td>86</td>\n",
       "      <td>86</td>\n",
       "      <td>NaN</td>\n",
       "      <td>0.0</td>\n",
       "      <td>0.0%</td>\n",
       "    </tr>\n",
       "    <tr>\n",
       "      <th>12</th>\n",
       "      <td>Hungary</td>\n",
       "      <td>384</td>\n",
       "      <td>376</td>\n",
       "      <td>355</td>\n",
       "      <td>345</td>\n",
       "      <td>338</td>\n",
       "      <td>310</td>\n",
       "      <td>304</td>\n",
       "      <td>285</td>\n",
       "      <td>268</td>\n",
       "      <td>...</td>\n",
       "      <td>255</td>\n",
       "      <td>250</td>\n",
       "      <td>244</td>\n",
       "      <td>244</td>\n",
       "      <td>239</td>\n",
       "      <td>243</td>\n",
       "      <td>226</td>\n",
       "      <td>NaN</td>\n",
       "      <td>-17.0</td>\n",
       "      <td>-7.0%</td>\n",
       "    </tr>\n",
       "    <tr>\n",
       "      <th>13</th>\n",
       "      <td>Ireland</td>\n",
       "      <td>1,199</td>\n",
       "      <td>1,174</td>\n",
       "      <td>1,153</td>\n",
       "      <td>1,148</td>\n",
       "      <td>1,129</td>\n",
       "      <td>1,136</td>\n",
       "      <td>1,122</td>\n",
       "      <td>996</td>\n",
       "      <td>1,023</td>\n",
       "      <td>...</td>\n",
       "      <td>1,128</td>\n",
       "      <td>1,240</td>\n",
       "      <td>1,295</td>\n",
       "      <td>1,343</td>\n",
       "      <td>1,369</td>\n",
       "      <td>1,426</td>\n",
       "      <td>1,456</td>\n",
       "      <td>NaN</td>\n",
       "      <td>30.0</td>\n",
       "      <td>2.1%</td>\n",
       "    </tr>\n",
       "    <tr>\n",
       "      <th>14</th>\n",
       "      <td>Italy</td>\n",
       "      <td>2,116</td>\n",
       "      <td>2,126</td>\n",
       "      <td>1,772</td>\n",
       "      <td>2,078</td>\n",
       "      <td>1,911</td>\n",
       "      <td>1,913</td>\n",
       "      <td>1,838</td>\n",
       "      <td>1,842</td>\n",
       "      <td>1,814</td>\n",
       "      <td>...</td>\n",
       "      <td>2,069</td>\n",
       "      <td>2,057</td>\n",
       "      <td>2,060</td>\n",
       "      <td>2,040</td>\n",
       "      <td>1,939</td>\n",
       "      <td>1,876</td>\n",
       "      <td>1,871</td>\n",
       "      <td>NaN</td>\n",
       "      <td>-4.0</td>\n",
       "      <td>-0.2%</td>\n",
       "    </tr>\n",
       "    <tr>\n",
       "      <th>15</th>\n",
       "      <td>Latvia</td>\n",
       "      <td>242</td>\n",
       "      <td>206</td>\n",
       "      <td>205</td>\n",
       "      <td>209</td>\n",
       "      <td>205</td>\n",
       "      <td>186</td>\n",
       "      <td>186</td>\n",
       "      <td>185</td>\n",
       "      <td>182</td>\n",
       "      <td>...</td>\n",
       "      <td>166</td>\n",
       "      <td>162</td>\n",
       "      <td>154</td>\n",
       "      <td>150</td>\n",
       "      <td>144</td>\n",
       "      <td>138</td>\n",
       "      <td>136</td>\n",
       "      <td>NaN</td>\n",
       "      <td>-2.0</td>\n",
       "      <td>-1.7%</td>\n",
       "    </tr>\n",
       "    <tr>\n",
       "      <th>16</th>\n",
       "      <td>Lithuania</td>\n",
       "      <td>538</td>\n",
       "      <td>494</td>\n",
       "      <td>438</td>\n",
       "      <td>442</td>\n",
       "      <td>443</td>\n",
       "      <td>448</td>\n",
       "      <td>434</td>\n",
       "      <td>417</td>\n",
       "      <td>399</td>\n",
       "      <td>...</td>\n",
       "      <td>314</td>\n",
       "      <td>301</td>\n",
       "      <td>286</td>\n",
       "      <td>273</td>\n",
       "      <td>256</td>\n",
       "      <td>241</td>\n",
       "      <td>233</td>\n",
       "      <td>NaN</td>\n",
       "      <td>-8.0</td>\n",
       "      <td>-3.3%</td>\n",
       "    </tr>\n",
       "    <tr>\n",
       "      <th>17</th>\n",
       "      <td>Luxembourg</td>\n",
       "      <td>47</td>\n",
       "      <td>45</td>\n",
       "      <td>44</td>\n",
       "      <td>44</td>\n",
       "      <td>42</td>\n",
       "      <td>41</td>\n",
       "      <td>41</td>\n",
       "      <td>41</td>\n",
       "      <td>46</td>\n",
       "      <td>...</td>\n",
       "      <td>47</td>\n",
       "      <td>49</td>\n",
       "      <td>52</td>\n",
       "      <td>52</td>\n",
       "      <td>53</td>\n",
       "      <td>54</td>\n",
       "      <td>54</td>\n",
       "      <td>NaN</td>\n",
       "      <td>0.0</td>\n",
       "      <td>0.1%</td>\n",
       "    </tr>\n",
       "    <tr>\n",
       "      <th>18</th>\n",
       "      <td>Malta</td>\n",
       "      <td>:</td>\n",
       "      <td>:</td>\n",
       "      <td>:</td>\n",
       "      <td>8</td>\n",
       "      <td>8</td>\n",
       "      <td>8</td>\n",
       "      <td>8</td>\n",
       "      <td>8</td>\n",
       "      <td>7</td>\n",
       "      <td>...</td>\n",
       "      <td>7</td>\n",
       "      <td>6</td>\n",
       "      <td>7</td>\n",
       "      <td>6</td>\n",
       "      <td>6</td>\n",
       "      <td>6</td>\n",
       "      <td>6</td>\n",
       "      <td>NaN</td>\n",
       "      <td>0.0</td>\n",
       "      <td>-1.0%</td>\n",
       "    </tr>\n",
       "    <tr>\n",
       "      <th>19</th>\n",
       "      <td>Netherlands</td>\n",
       "      <td>1,600</td>\n",
       "      <td>1,570</td>\n",
       "      <td>1,532</td>\n",
       "      <td>1,551</td>\n",
       "      <td>1,546</td>\n",
       "      <td>1,551</td>\n",
       "      <td>1,502</td>\n",
       "      <td>1,486</td>\n",
       "      <td>1,443</td>\n",
       "      <td>...</td>\n",
       "      <td>1,610</td>\n",
       "      <td>1,717</td>\n",
       "      <td>1,794</td>\n",
       "      <td>1,665</td>\n",
       "      <td>1,552</td>\n",
       "      <td>1,590</td>\n",
       "      <td>1,569</td>\n",
       "      <td>NaN</td>\n",
       "      <td>-21.0</td>\n",
       "      <td>-1.3%</td>\n",
       "    </tr>\n",
       "    <tr>\n",
       "      <th>20</th>\n",
       "      <td>Poland</td>\n",
       "      <td>3,361</td>\n",
       "      <td>3,215</td>\n",
       "      <td>2,982</td>\n",
       "      <td>2,930</td>\n",
       "      <td>2,935</td>\n",
       "      <td>2,816</td>\n",
       "      <td>2,730</td>\n",
       "      <td>2,755</td>\n",
       "      <td>2,637</td>\n",
       "      <td>...</td>\n",
       "      <td>2,248</td>\n",
       "      <td>2,134</td>\n",
       "      <td>2,130</td>\n",
       "      <td>2,153</td>\n",
       "      <td>2,214</td>\n",
       "      <td>2,167</td>\n",
       "      <td>2,126</td>\n",
       "      <td>NaN</td>\n",
       "      <td>-41.0</td>\n",
       "      <td>-1.9%</td>\n",
       "    </tr>\n",
       "    <tr>\n",
       "      <th>21</th>\n",
       "      <td>Portugal</td>\n",
       "      <td>372</td>\n",
       "      <td>357</td>\n",
       "      <td>329</td>\n",
       "      <td>305</td>\n",
       "      <td>299</td>\n",
       "      <td>288</td>\n",
       "      <td>297</td>\n",
       "      <td>285</td>\n",
       "      <td>270</td>\n",
       "      <td>...</td>\n",
       "      <td>234</td>\n",
       "      <td>243</td>\n",
       "      <td>239</td>\n",
       "      <td>239</td>\n",
       "      <td>235</td>\n",
       "      <td>234</td>\n",
       "      <td>233</td>\n",
       "      <td>NaN</td>\n",
       "      <td>-1.0</td>\n",
       "      <td>-0.6%</td>\n",
       "    </tr>\n",
       "    <tr>\n",
       "      <th>22</th>\n",
       "      <td>Romania</td>\n",
       "      <td>:</td>\n",
       "      <td>:</td>\n",
       "      <td>:</td>\n",
       "      <td>1,620</td>\n",
       "      <td>1,627</td>\n",
       "      <td>:</td>\n",
       "      <td>1,566</td>\n",
       "      <td>1,625</td>\n",
       "      <td>1,639</td>\n",
       "      <td>...</td>\n",
       "      <td>1,188</td>\n",
       "      <td>1,191</td>\n",
       "      <td>1,193</td>\n",
       "      <td>1,175</td>\n",
       "      <td>1,158</td>\n",
       "      <td>1,139</td>\n",
       "      <td>1,122</td>\n",
       "      <td>NaN</td>\n",
       "      <td>-17.0</td>\n",
       "      <td>-1.5%</td>\n",
       "    </tr>\n",
       "    <tr>\n",
       "      <th>23</th>\n",
       "      <td>Slovakia</td>\n",
       "      <td>265</td>\n",
       "      <td>251</td>\n",
       "      <td>243</td>\n",
       "      <td>230</td>\n",
       "      <td>230</td>\n",
       "      <td>214</td>\n",
       "      <td>202</td>\n",
       "      <td>199</td>\n",
       "      <td>185</td>\n",
       "      <td>...</td>\n",
       "      <td>143</td>\n",
       "      <td>139</td>\n",
       "      <td>133</td>\n",
       "      <td>130</td>\n",
       "      <td>128</td>\n",
       "      <td>126</td>\n",
       "      <td>122</td>\n",
       "      <td>NaN</td>\n",
       "      <td>-4.0</td>\n",
       "      <td>-3.2%</td>\n",
       "    </tr>\n",
       "    <tr>\n",
       "      <th>24</th>\n",
       "      <td>Slovenia</td>\n",
       "      <td>147</td>\n",
       "      <td>149</td>\n",
       "      <td>140</td>\n",
       "      <td>136</td>\n",
       "      <td>140</td>\n",
       "      <td>131</td>\n",
       "      <td>134</td>\n",
       "      <td>120</td>\n",
       "      <td>113</td>\n",
       "      <td>...</td>\n",
       "      <td>108</td>\n",
       "      <td>113</td>\n",
       "      <td>108</td>\n",
       "      <td>109</td>\n",
       "      <td>103</td>\n",
       "      <td>101</td>\n",
       "      <td>99</td>\n",
       "      <td>NaN</td>\n",
       "      <td>-2.0</td>\n",
       "      <td>-1.6%</td>\n",
       "    </tr>\n",
       "    <tr>\n",
       "      <th>25</th>\n",
       "      <td>Spain</td>\n",
       "      <td>1,278</td>\n",
       "      <td>1,207</td>\n",
       "      <td>1,141</td>\n",
       "      <td>1,182</td>\n",
       "      <td>1,154</td>\n",
       "      <td>1,118</td>\n",
       "      <td>1,057</td>\n",
       "      <td>1,018</td>\n",
       "      <td>942</td>\n",
       "      <td>...</td>\n",
       "      <td>845</td>\n",
       "      <td>844</td>\n",
       "      <td>834</td>\n",
       "      <td>823</td>\n",
       "      <td>817</td>\n",
       "      <td>813</td>\n",
       "      <td>811</td>\n",
       "      <td>NaN</td>\n",
       "      <td>-2.0</td>\n",
       "      <td>-0.3%</td>\n",
       "    </tr>\n",
       "    <tr>\n",
       "      <th>26</th>\n",
       "      <td>Sweden</td>\n",
       "      <td>471</td>\n",
       "      <td>447</td>\n",
       "      <td>426</td>\n",
       "      <td>425</td>\n",
       "      <td>403</td>\n",
       "      <td>404</td>\n",
       "      <td>401</td>\n",
       "      <td>391</td>\n",
       "      <td>385</td>\n",
       "      <td>...</td>\n",
       "      <td>344</td>\n",
       "      <td>337</td>\n",
       "      <td>326</td>\n",
       "      <td>323</td>\n",
       "      <td>313</td>\n",
       "      <td>301</td>\n",
       "      <td>304</td>\n",
       "      <td>NaN</td>\n",
       "      <td>3.0</td>\n",
       "      <td>1.0%</td>\n",
       "    </tr>\n",
       "    <tr>\n",
       "      <th>27</th>\n",
       "      <td>United Kingdom</td>\n",
       "      <td>2,475</td>\n",
       "      <td>2,438</td>\n",
       "      <td>2,339</td>\n",
       "      <td>2,203</td>\n",
       "      <td>2,229</td>\n",
       "      <td>2,207</td>\n",
       "      <td>2,054</td>\n",
       "      <td>2,007</td>\n",
       "      <td>2,005</td>\n",
       "      <td>...</td>\n",
       "      <td>1,883</td>\n",
       "      <td>1,918</td>\n",
       "      <td>1,898</td>\n",
       "      <td>1,904</td>\n",
       "      <td>1,879</td>\n",
       "      <td>1,867</td>\n",
       "      <td>:</td>\n",
       "      <td>NaN</td>\n",
       "      <td>NaN</td>\n",
       "      <td>NaN</td>\n",
       "    </tr>\n",
       "    <tr>\n",
       "      <th>28</th>\n",
       "      <td>EU-15</td>\n",
       "      <td>21,416</td>\n",
       "      <td>21,024</td>\n",
       "      <td>19,884</td>\n",
       "      <td>19,969</td>\n",
       "      <td>19,509</td>\n",
       "      <td>19,217</td>\n",
       "      <td>18,691</td>\n",
       "      <td>18,230</td>\n",
       "      <td>17,862</td>\n",
       "      <td>...</td>\n",
       "      <td>18,138</td>\n",
       "      <td>18,353</td>\n",
       "      <td>18,371</td>\n",
       "      <td>18,191</td>\n",
       "      <td>17,804</td>\n",
       "      <td>17,634</td>\n",
       "      <td>:</td>\n",
       "      <td>NaN</td>\n",
       "      <td>NaN</td>\n",
       "      <td>NaN</td>\n",
       "    </tr>\n",
       "    <tr>\n",
       "      <th>29</th>\n",
       "      <td>EU-25</td>\n",
       "      <td>:</td>\n",
       "      <td>:</td>\n",
       "      <td>:</td>\n",
       "      <td>24,918</td>\n",
       "      <td>24,414</td>\n",
       "      <td>23,923</td>\n",
       "      <td>23,261</td>\n",
       "      <td>22,773</td>\n",
       "      <td>22,203</td>\n",
       "      <td>...</td>\n",
       "      <td>21,872</td>\n",
       "      <td>21,944</td>\n",
       "      <td>21,913</td>\n",
       "      <td>21,738</td>\n",
       "      <td>21,370</td>\n",
       "      <td>21,137</td>\n",
       "      <td>:</td>\n",
       "      <td>NaN</td>\n",
       "      <td>NaN</td>\n",
       "      <td>NaN</td>\n",
       "    </tr>\n",
       "    <tr>\n",
       "      <th>30</th>\n",
       "      <td>EU-27</td>\n",
       "      <td>:</td>\n",
       "      <td>:</td>\n",
       "      <td>:</td>\n",
       "      <td>26,896</td>\n",
       "      <td>26,400</td>\n",
       "      <td>:</td>\n",
       "      <td>25,196</td>\n",
       "      <td>24,746</td>\n",
       "      <td>24,193</td>\n",
       "      <td>...</td>\n",
       "      <td>23,362</td>\n",
       "      <td>23,418</td>\n",
       "      <td>23,385</td>\n",
       "      <td>23,174</td>\n",
       "      <td>22,772</td>\n",
       "      <td>22,503</td>\n",
       "      <td>:</td>\n",
       "      <td>NaN</td>\n",
       "      <td>NaN</td>\n",
       "      <td>NaN</td>\n",
       "    </tr>\n",
       "    <tr>\n",
       "      <th>31</th>\n",
       "      <td>EU-28</td>\n",
       "      <td>:</td>\n",
       "      <td>:</td>\n",
       "      <td>:</td>\n",
       "      <td>:</td>\n",
       "      <td>:</td>\n",
       "      <td>:</td>\n",
       "      <td>:</td>\n",
       "      <td>:</td>\n",
       "      <td>:</td>\n",
       "      <td>...</td>\n",
       "      <td>23,521</td>\n",
       "      <td>23,570</td>\n",
       "      <td>23,532</td>\n",
       "      <td>23,313</td>\n",
       "      <td>22,908</td>\n",
       "      <td>22,633</td>\n",
       "      <td>:</td>\n",
       "      <td>NaN</td>\n",
       "      <td>NaN</td>\n",
       "      <td>NaN</td>\n",
       "    </tr>\n",
       "    <tr>\n",
       "      <th>32</th>\n",
       "      <td>EU-ex UK</td>\n",
       "      <td>:</td>\n",
       "      <td>:</td>\n",
       "      <td>:</td>\n",
       "      <td>NaN</td>\n",
       "      <td>NaN</td>\n",
       "      <td>NaN</td>\n",
       "      <td>NaN</td>\n",
       "      <td>NaN</td>\n",
       "      <td>NaN</td>\n",
       "      <td>...</td>\n",
       "      <td>21,638</td>\n",
       "      <td>21,652</td>\n",
       "      <td>21,634</td>\n",
       "      <td>21,409</td>\n",
       "      <td>21,029</td>\n",
       "      <td>20,766</td>\n",
       "      <td>20,545</td>\n",
       "      <td>NaN</td>\n",
       "      <td>-220.0</td>\n",
       "      <td>-1.1%</td>\n",
       "    </tr>\n",
       "  </tbody>\n",
       "</table>\n",
       "<p>33 rows × 27 columns</p>\n",
       "</div>"
      ],
      "text/plain": [
       "        Unnamed: 0    1998    1999    2000    2001    2002    2003    2004  \\\n",
       "0          Austria     729     698     621     598     589     558     538   \n",
       "1          Belgium     632     619     629     611     591     572     571   \n",
       "2         Bulgaria     421     431     363     359     358     362     369   \n",
       "3          Croatia       :       :       :       :       :       :       :   \n",
       "4           Cyprus      24      24      24      24      26      27      26   \n",
       "5          Czechia     583     548     529     496     464     449     429   \n",
       "6          Denmark     680     681     644     628     613     589     569   \n",
       "7          Estonia     159     138     131     129     116     117     117   \n",
       "8          Finland     380     374     358     352     343     328     318   \n",
       "9           France   4,432   4,424   4,153   4,197   4,134   4,026   3,947   \n",
       "10         Germany   4,833   4,710   4,564   4,475   4,373   4,338   4,287   \n",
       "11          Greece     172     154     180     172     152     149     150   \n",
       "12         Hungary     384     376     355     345     338     310     304   \n",
       "13         Ireland   1,199   1,174   1,153   1,148   1,129   1,136   1,122   \n",
       "14           Italy   2,116   2,126   1,772   2,078   1,911   1,913   1,838   \n",
       "15          Latvia     242     206     205     209     205     186     186   \n",
       "16       Lithuania     538     494     438     442     443     448     434   \n",
       "17      Luxembourg      47      45      44      44      42      41      41   \n",
       "18           Malta       :       :       :       8       8       8       8   \n",
       "19     Netherlands   1,600   1,570   1,532   1,551   1,546   1,551   1,502   \n",
       "20          Poland   3,361   3,215   2,982   2,930   2,935   2,816   2,730   \n",
       "21        Portugal     372     357     329     305     299     288     297   \n",
       "22         Romania       :       :       :   1,620   1,627       :   1,566   \n",
       "23        Slovakia     265     251     243     230     230     214     202   \n",
       "24        Slovenia     147     149     140     136     140     131     134   \n",
       "25           Spain   1,278   1,207   1,141   1,182   1,154   1,118   1,057   \n",
       "26          Sweden     471     447     426     425     403     404     401   \n",
       "27  United Kingdom   2,475   2,438   2,339   2,203   2,229   2,207   2,054   \n",
       "28           EU-15  21,416  21,024  19,884  19,969  19,509  19,217  18,691   \n",
       "29           EU-25       :       :       :  24,918  24,414  23,923  23,261   \n",
       "30           EU-27       :       :       :  26,896  26,400       :  25,196   \n",
       "31           EU-28       :       :       :       :       :       :       :   \n",
       "32        EU-ex UK       :       :       :     NaN     NaN     NaN     NaN   \n",
       "\n",
       "      2005    2006  ...    2014    2015    2016    2017    2018    2019  \\\n",
       "0      534     527  ...     538     534     540     543     533     524   \n",
       "1      548     532  ...     519     529     531     519     529     538   \n",
       "2      348     350  ...     302     283     279     261     244     227   \n",
       "3        :       :  ...     159     152     147     139     136     130   \n",
       "4       25      24  ...      25      26      28      30      32      35   \n",
       "5      437     417  ...     372     369     367     365     359     361   \n",
       "6      558     555  ...     547     570     565     575     570     563   \n",
       "7      113     109  ...      96      91      86      86      85      85   \n",
       "8      313     298  ...     283     282     275     271     264     259   \n",
       "9    3,895   3,799  ...   3,661   3,637   3,637   3,597   3,554   3,491   \n",
       "10   4,164   4,054  ...   4,296   4,285   4,218   4,199   4,101   4,012   \n",
       "11     152     168  ...     135     111     106      97      95      86   \n",
       "12     285     268  ...     255     250     244     244     239     243   \n",
       "13     996   1,023  ...   1,128   1,240   1,295   1,343   1,369   1,426   \n",
       "14   1,842   1,814  ...   2,069   2,057   2,060   2,040   1,939   1,876   \n",
       "15     185     182  ...     166     162     154     150     144     138   \n",
       "16     417     399  ...     314     301     286     273     256     241   \n",
       "17      41      46  ...      47      49      52      52      53      54   \n",
       "18       8       7  ...       7       6       7       6       6       6   \n",
       "19   1,486   1,443  ...   1,610   1,717   1,794   1,665   1,552   1,590   \n",
       "20   2,755   2,637  ...   2,248   2,134   2,130   2,153   2,214   2,167   \n",
       "21     285     270  ...     234     243     239     239     235     234   \n",
       "22   1,625   1,639  ...   1,188   1,191   1,193   1,175   1,158   1,139   \n",
       "23     199     185  ...     143     139     133     130     128     126   \n",
       "24     120     113  ...     108     113     108     109     103     101   \n",
       "25   1,018     942  ...     845     844     834     823     817     813   \n",
       "26     391     385  ...     344     337     326     323     313     301   \n",
       "27   2,007   2,005  ...   1,883   1,918   1,898   1,904   1,879   1,867   \n",
       "28  18,230  17,862  ...  18,138  18,353  18,371  18,191  17,804  17,634   \n",
       "29  22,773  22,203  ...  21,872  21,944  21,913  21,738  21,370  21,137   \n",
       "30  24,746  24,193  ...  23,362  23,418  23,385  23,174  22,772  22,503   \n",
       "31       :       :  ...  23,521  23,570  23,532  23,313  22,908  22,633   \n",
       "32     NaN     NaN  ...  21,638  21,652  21,634  21,409  21,029  20,766   \n",
       "\n",
       "      2020 Unnamed: 24 Annual change % change  \n",
       "0      525         NaN           1.0     0.1%  \n",
       "1      541         NaN           3.0     0.6%  \n",
       "2      242         NaN          15.0     6.8%  \n",
       "3      129         NaN          -1.0    -0.8%  \n",
       "4       37         NaN           2.0     4.8%  \n",
       "5      357         NaN          -4.0    -1.2%  \n",
       "6      565         NaN           2.0     0.4%  \n",
       "7       84         NaN          -1.0    -0.8%  \n",
       "8      256         NaN          -3.0    -1.3%  \n",
       "9    3,434         NaN         -57.0    -1.6%  \n",
       "10   3,921         NaN         -90.0    -2.2%  \n",
       "11      86         NaN           0.0     0.0%  \n",
       "12     226         NaN         -17.0    -7.0%  \n",
       "13   1,456         NaN          30.0     2.1%  \n",
       "14   1,871         NaN          -4.0    -0.2%  \n",
       "15     136         NaN          -2.0    -1.7%  \n",
       "16     233         NaN          -8.0    -3.3%  \n",
       "17      54         NaN           0.0     0.1%  \n",
       "18       6         NaN           0.0    -1.0%  \n",
       "19   1,569         NaN         -21.0    -1.3%  \n",
       "20   2,126         NaN         -41.0    -1.9%  \n",
       "21     233         NaN          -1.0    -0.6%  \n",
       "22   1,122         NaN         -17.0    -1.5%  \n",
       "23     122         NaN          -4.0    -3.2%  \n",
       "24      99         NaN          -2.0    -1.6%  \n",
       "25     811         NaN          -2.0    -0.3%  \n",
       "26     304         NaN           3.0     1.0%  \n",
       "27       :         NaN           NaN      NaN  \n",
       "28       :         NaN           NaN      NaN  \n",
       "29       :         NaN           NaN      NaN  \n",
       "30       :         NaN           NaN      NaN  \n",
       "31       :         NaN           NaN      NaN  \n",
       "32  20,545         NaN        -220.0    -1.1%  \n",
       "\n",
       "[33 rows x 27 columns]"
      ]
     },
     "metadata": {},
     "output_type": "display_data"
    },
    {
     "name": "stdout",
     "output_type": "stream",
     "text": [
      "<class 'pandas.core.frame.DataFrame'>\n",
      "RangeIndex: 33 entries, 0 to 32\n",
      "Data columns (total 27 columns):\n",
      " #   Column         Non-Null Count  Dtype  \n",
      "---  ------         --------------  -----  \n",
      " 0   Unnamed: 0     33 non-null     object \n",
      " 1   1998           33 non-null     object \n",
      " 2   1999           33 non-null     object \n",
      " 3   2000           33 non-null     object \n",
      " 4   2001           32 non-null     object \n",
      " 5   2002           32 non-null     object \n",
      " 6   2003           32 non-null     object \n",
      " 7   2004           32 non-null     object \n",
      " 8   2005           32 non-null     object \n",
      " 9   2006           32 non-null     object \n",
      " 10  2007           32 non-null     object \n",
      " 11  2008           32 non-null     object \n",
      " 12  2009           32 non-null     object \n",
      " 13  2010           33 non-null     object \n",
      " 14  2011           33 non-null     object \n",
      " 15  2012           33 non-null     object \n",
      " 16  2013           33 non-null     object \n",
      " 17  2014           33 non-null     object \n",
      " 18  2015           33 non-null     object \n",
      " 19  2016           33 non-null     object \n",
      " 20  2017           33 non-null     object \n",
      " 21  2018           33 non-null     object \n",
      " 22  2019           33 non-null     object \n",
      " 23  2020           33 non-null     object \n",
      " 24  Unnamed: 24    0 non-null      float64\n",
      " 25  Annual change  28 non-null     float64\n",
      " 26  % change       28 non-null     object \n",
      "dtypes: float64(2), object(25)\n",
      "memory usage: 7.1+ KB\n"
     ]
    }
   ],
   "source": [
    "display(data_Eu)\n",
    "data_Eu.info()"
   ]
  },
  {
   "cell_type": "markdown",
   "id": "795cf5f7",
   "metadata": {},
   "source": [
    "As we can see the data for the EU countries is formatted where the year is the column featuring rows with the corresponding countrises within the EU. I have removed the unnecessary and unformatted data as features such as <code>Unnamed: 0</code> have no use in any data analysis without the documentation that is not present in this case.\n",
    "\n",
    "I then created a seperated dataframe which contained the EU dairy cattle distribution and formatted it to remove special charachters any values that contained strings and converted the whole dataframe to an integer. As the year and country wasn't in the correct format I transposed the dataframe to make the feature selection the countries within the dataframe rather than the year."
   ]
  },
  {
   "cell_type": "code",
   "execution_count": 24,
   "id": "643e3232",
   "metadata": {},
   "outputs": [],
   "source": [
    "data_Eu = data_Eu.rename(columns={\"Unnamed: 0\": \"Countries\"})\n",
    "del data_Eu['Annual change']\n",
    "del data_Eu['% change']\n",
    "del data_Eu['Unnamed: 24']\n",
    "data_Eu = data_Eu.drop(labels=[27,28,29,30,31,32], axis=0)\n",
    "data_Eu = data_Eu.fillna(0)"
   ]
  },
  {
   "cell_type": "code",
   "execution_count": 25,
   "id": "42242363",
   "metadata": {
    "scrolled": true
   },
   "outputs": [
    {
     "name": "stdout",
     "output_type": "stream",
     "text": [
      "<class 'pandas.core.frame.DataFrame'>\n",
      "Index: 23 entries, 1998 to 2020\n",
      "Data columns (total 27 columns):\n",
      " #   Column  Non-Null Count  Dtype\n",
      "---  ------  --------------  -----\n",
      " 0   0       23 non-null     int32\n",
      " 1   1       23 non-null     int32\n",
      " 2   2       23 non-null     int32\n",
      " 3   3       23 non-null     int32\n",
      " 4   4       23 non-null     int32\n",
      " 5   5       23 non-null     int32\n",
      " 6   6       23 non-null     int32\n",
      " 7   7       23 non-null     int32\n",
      " 8   8       23 non-null     int32\n",
      " 9   9       23 non-null     int32\n",
      " 10  10      23 non-null     int32\n",
      " 11  11      23 non-null     int32\n",
      " 12  12      23 non-null     int32\n",
      " 13  13      23 non-null     int32\n",
      " 14  14      23 non-null     int32\n",
      " 15  15      23 non-null     int32\n",
      " 16  16      23 non-null     int32\n",
      " 17  17      23 non-null     int32\n",
      " 18  18      23 non-null     int32\n",
      " 19  19      23 non-null     int32\n",
      " 20  20      23 non-null     int32\n",
      " 21  21      23 non-null     int32\n",
      " 22  22      23 non-null     int32\n",
      " 23  23      23 non-null     int32\n",
      " 24  24      23 non-null     int32\n",
      " 25  25      23 non-null     int32\n",
      " 26  26      23 non-null     int32\n",
      "dtypes: int32(27)\n",
      "memory usage: 2.6+ KB\n"
     ]
    },
    {
     "data": {
      "text/html": [
       "<div>\n",
       "<style scoped>\n",
       "    .dataframe tbody tr th:only-of-type {\n",
       "        vertical-align: middle;\n",
       "    }\n",
       "\n",
       "    .dataframe tbody tr th {\n",
       "        vertical-align: top;\n",
       "    }\n",
       "\n",
       "    .dataframe thead th {\n",
       "        text-align: right;\n",
       "    }\n",
       "</style>\n",
       "<table border=\"1\" class=\"dataframe\">\n",
       "  <thead>\n",
       "    <tr style=\"text-align: right;\">\n",
       "      <th></th>\n",
       "      <th>0</th>\n",
       "      <th>1</th>\n",
       "      <th>2</th>\n",
       "      <th>3</th>\n",
       "      <th>4</th>\n",
       "      <th>5</th>\n",
       "      <th>6</th>\n",
       "      <th>7</th>\n",
       "      <th>8</th>\n",
       "      <th>9</th>\n",
       "      <th>...</th>\n",
       "      <th>17</th>\n",
       "      <th>18</th>\n",
       "      <th>19</th>\n",
       "      <th>20</th>\n",
       "      <th>21</th>\n",
       "      <th>22</th>\n",
       "      <th>23</th>\n",
       "      <th>24</th>\n",
       "      <th>25</th>\n",
       "      <th>26</th>\n",
       "    </tr>\n",
       "  </thead>\n",
       "  <tbody>\n",
       "    <tr>\n",
       "      <th>1998</th>\n",
       "      <td>729</td>\n",
       "      <td>632</td>\n",
       "      <td>421</td>\n",
       "      <td>0</td>\n",
       "      <td>24</td>\n",
       "      <td>583</td>\n",
       "      <td>680</td>\n",
       "      <td>159</td>\n",
       "      <td>380</td>\n",
       "      <td>4432</td>\n",
       "      <td>...</td>\n",
       "      <td>47</td>\n",
       "      <td>0</td>\n",
       "      <td>1600</td>\n",
       "      <td>3361</td>\n",
       "      <td>372</td>\n",
       "      <td>0</td>\n",
       "      <td>265</td>\n",
       "      <td>147</td>\n",
       "      <td>1278</td>\n",
       "      <td>471</td>\n",
       "    </tr>\n",
       "    <tr>\n",
       "      <th>1999</th>\n",
       "      <td>698</td>\n",
       "      <td>619</td>\n",
       "      <td>431</td>\n",
       "      <td>0</td>\n",
       "      <td>24</td>\n",
       "      <td>548</td>\n",
       "      <td>681</td>\n",
       "      <td>138</td>\n",
       "      <td>374</td>\n",
       "      <td>4424</td>\n",
       "      <td>...</td>\n",
       "      <td>45</td>\n",
       "      <td>0</td>\n",
       "      <td>1570</td>\n",
       "      <td>3215</td>\n",
       "      <td>357</td>\n",
       "      <td>0</td>\n",
       "      <td>251</td>\n",
       "      <td>149</td>\n",
       "      <td>1207</td>\n",
       "      <td>447</td>\n",
       "    </tr>\n",
       "    <tr>\n",
       "      <th>2000</th>\n",
       "      <td>621</td>\n",
       "      <td>629</td>\n",
       "      <td>363</td>\n",
       "      <td>0</td>\n",
       "      <td>24</td>\n",
       "      <td>529</td>\n",
       "      <td>644</td>\n",
       "      <td>131</td>\n",
       "      <td>358</td>\n",
       "      <td>4153</td>\n",
       "      <td>...</td>\n",
       "      <td>44</td>\n",
       "      <td>0</td>\n",
       "      <td>1532</td>\n",
       "      <td>2982</td>\n",
       "      <td>329</td>\n",
       "      <td>0</td>\n",
       "      <td>243</td>\n",
       "      <td>140</td>\n",
       "      <td>1141</td>\n",
       "      <td>426</td>\n",
       "    </tr>\n",
       "    <tr>\n",
       "      <th>2001</th>\n",
       "      <td>598</td>\n",
       "      <td>611</td>\n",
       "      <td>359</td>\n",
       "      <td>0</td>\n",
       "      <td>24</td>\n",
       "      <td>496</td>\n",
       "      <td>628</td>\n",
       "      <td>129</td>\n",
       "      <td>352</td>\n",
       "      <td>4197</td>\n",
       "      <td>...</td>\n",
       "      <td>44</td>\n",
       "      <td>8</td>\n",
       "      <td>1551</td>\n",
       "      <td>2930</td>\n",
       "      <td>305</td>\n",
       "      <td>1620</td>\n",
       "      <td>230</td>\n",
       "      <td>136</td>\n",
       "      <td>1182</td>\n",
       "      <td>425</td>\n",
       "    </tr>\n",
       "    <tr>\n",
       "      <th>2002</th>\n",
       "      <td>589</td>\n",
       "      <td>591</td>\n",
       "      <td>358</td>\n",
       "      <td>0</td>\n",
       "      <td>26</td>\n",
       "      <td>464</td>\n",
       "      <td>613</td>\n",
       "      <td>116</td>\n",
       "      <td>343</td>\n",
       "      <td>4134</td>\n",
       "      <td>...</td>\n",
       "      <td>42</td>\n",
       "      <td>8</td>\n",
       "      <td>1546</td>\n",
       "      <td>2935</td>\n",
       "      <td>299</td>\n",
       "      <td>1627</td>\n",
       "      <td>230</td>\n",
       "      <td>140</td>\n",
       "      <td>1154</td>\n",
       "      <td>403</td>\n",
       "    </tr>\n",
       "    <tr>\n",
       "      <th>2003</th>\n",
       "      <td>558</td>\n",
       "      <td>572</td>\n",
       "      <td>362</td>\n",
       "      <td>0</td>\n",
       "      <td>27</td>\n",
       "      <td>449</td>\n",
       "      <td>589</td>\n",
       "      <td>117</td>\n",
       "      <td>328</td>\n",
       "      <td>4026</td>\n",
       "      <td>...</td>\n",
       "      <td>41</td>\n",
       "      <td>8</td>\n",
       "      <td>1551</td>\n",
       "      <td>2816</td>\n",
       "      <td>288</td>\n",
       "      <td>0</td>\n",
       "      <td>214</td>\n",
       "      <td>131</td>\n",
       "      <td>1118</td>\n",
       "      <td>404</td>\n",
       "    </tr>\n",
       "    <tr>\n",
       "      <th>2004</th>\n",
       "      <td>538</td>\n",
       "      <td>571</td>\n",
       "      <td>369</td>\n",
       "      <td>0</td>\n",
       "      <td>26</td>\n",
       "      <td>429</td>\n",
       "      <td>569</td>\n",
       "      <td>117</td>\n",
       "      <td>318</td>\n",
       "      <td>3947</td>\n",
       "      <td>...</td>\n",
       "      <td>41</td>\n",
       "      <td>8</td>\n",
       "      <td>1502</td>\n",
       "      <td>2730</td>\n",
       "      <td>297</td>\n",
       "      <td>1566</td>\n",
       "      <td>202</td>\n",
       "      <td>134</td>\n",
       "      <td>1057</td>\n",
       "      <td>401</td>\n",
       "    </tr>\n",
       "    <tr>\n",
       "      <th>2005</th>\n",
       "      <td>534</td>\n",
       "      <td>548</td>\n",
       "      <td>348</td>\n",
       "      <td>0</td>\n",
       "      <td>25</td>\n",
       "      <td>437</td>\n",
       "      <td>558</td>\n",
       "      <td>113</td>\n",
       "      <td>313</td>\n",
       "      <td>3895</td>\n",
       "      <td>...</td>\n",
       "      <td>41</td>\n",
       "      <td>8</td>\n",
       "      <td>1486</td>\n",
       "      <td>2755</td>\n",
       "      <td>285</td>\n",
       "      <td>1625</td>\n",
       "      <td>199</td>\n",
       "      <td>120</td>\n",
       "      <td>1018</td>\n",
       "      <td>391</td>\n",
       "    </tr>\n",
       "    <tr>\n",
       "      <th>2006</th>\n",
       "      <td>527</td>\n",
       "      <td>532</td>\n",
       "      <td>350</td>\n",
       "      <td>0</td>\n",
       "      <td>24</td>\n",
       "      <td>417</td>\n",
       "      <td>555</td>\n",
       "      <td>109</td>\n",
       "      <td>298</td>\n",
       "      <td>3799</td>\n",
       "      <td>...</td>\n",
       "      <td>46</td>\n",
       "      <td>7</td>\n",
       "      <td>1443</td>\n",
       "      <td>2637</td>\n",
       "      <td>270</td>\n",
       "      <td>1639</td>\n",
       "      <td>185</td>\n",
       "      <td>113</td>\n",
       "      <td>942</td>\n",
       "      <td>385</td>\n",
       "    </tr>\n",
       "    <tr>\n",
       "      <th>2007</th>\n",
       "      <td>525</td>\n",
       "      <td>524</td>\n",
       "      <td>336</td>\n",
       "      <td>225</td>\n",
       "      <td>24</td>\n",
       "      <td>407</td>\n",
       "      <td>551</td>\n",
       "      <td>103</td>\n",
       "      <td>288</td>\n",
       "      <td>3759</td>\n",
       "      <td>...</td>\n",
       "      <td>40</td>\n",
       "      <td>8</td>\n",
       "      <td>1490</td>\n",
       "      <td>2677</td>\n",
       "      <td>269</td>\n",
       "      <td>1573</td>\n",
       "      <td>180</td>\n",
       "      <td>117</td>\n",
       "      <td>903</td>\n",
       "      <td>366</td>\n",
       "    </tr>\n",
       "    <tr>\n",
       "      <th>2008</th>\n",
       "      <td>530</td>\n",
       "      <td>518</td>\n",
       "      <td>315</td>\n",
       "      <td>213</td>\n",
       "      <td>24</td>\n",
       "      <td>400</td>\n",
       "      <td>566</td>\n",
       "      <td>100</td>\n",
       "      <td>288</td>\n",
       "      <td>3857</td>\n",
       "      <td>...</td>\n",
       "      <td>46</td>\n",
       "      <td>7</td>\n",
       "      <td>1587</td>\n",
       "      <td>2697</td>\n",
       "      <td>265</td>\n",
       "      <td>1483</td>\n",
       "      <td>174</td>\n",
       "      <td>113</td>\n",
       "      <td>888</td>\n",
       "      <td>366</td>\n",
       "    </tr>\n",
       "    <tr>\n",
       "      <th>2009</th>\n",
       "      <td>533</td>\n",
       "      <td>518</td>\n",
       "      <td>297</td>\n",
       "      <td>212</td>\n",
       "      <td>23</td>\n",
       "      <td>384</td>\n",
       "      <td>574</td>\n",
       "      <td>97</td>\n",
       "      <td>286</td>\n",
       "      <td>3748</td>\n",
       "      <td>...</td>\n",
       "      <td>46</td>\n",
       "      <td>7</td>\n",
       "      <td>1562</td>\n",
       "      <td>2585</td>\n",
       "      <td>255</td>\n",
       "      <td>1419</td>\n",
       "      <td>163</td>\n",
       "      <td>113</td>\n",
       "      <td>828</td>\n",
       "      <td>354</td>\n",
       "    </tr>\n",
       "    <tr>\n",
       "      <th>2010</th>\n",
       "      <td>533</td>\n",
       "      <td>518</td>\n",
       "      <td>314</td>\n",
       "      <td>207</td>\n",
       "      <td>23</td>\n",
       "      <td>375</td>\n",
       "      <td>573</td>\n",
       "      <td>97</td>\n",
       "      <td>284</td>\n",
       "      <td>3718</td>\n",
       "      <td>...</td>\n",
       "      <td>46</td>\n",
       "      <td>6</td>\n",
       "      <td>1518</td>\n",
       "      <td>2529</td>\n",
       "      <td>243</td>\n",
       "      <td>1179</td>\n",
       "      <td>159</td>\n",
       "      <td>109</td>\n",
       "      <td>845</td>\n",
       "      <td>349</td>\n",
       "    </tr>\n",
       "    <tr>\n",
       "      <th>2011</th>\n",
       "      <td>527</td>\n",
       "      <td>511</td>\n",
       "      <td>313</td>\n",
       "      <td>185</td>\n",
       "      <td>24</td>\n",
       "      <td>374</td>\n",
       "      <td>579</td>\n",
       "      <td>96</td>\n",
       "      <td>282</td>\n",
       "      <td>3664</td>\n",
       "      <td>...</td>\n",
       "      <td>44</td>\n",
       "      <td>6</td>\n",
       "      <td>1504</td>\n",
       "      <td>2446</td>\n",
       "      <td>242</td>\n",
       "      <td>1170</td>\n",
       "      <td>154</td>\n",
       "      <td>109</td>\n",
       "      <td>798</td>\n",
       "      <td>348</td>\n",
       "    </tr>\n",
       "    <tr>\n",
       "      <th>2012</th>\n",
       "      <td>523</td>\n",
       "      <td>504</td>\n",
       "      <td>294</td>\n",
       "      <td>181</td>\n",
       "      <td>24</td>\n",
       "      <td>367</td>\n",
       "      <td>579</td>\n",
       "      <td>97</td>\n",
       "      <td>280</td>\n",
       "      <td>3644</td>\n",
       "      <td>...</td>\n",
       "      <td>45</td>\n",
       "      <td>6</td>\n",
       "      <td>1541</td>\n",
       "      <td>2346</td>\n",
       "      <td>237</td>\n",
       "      <td>1163</td>\n",
       "      <td>150</td>\n",
       "      <td>111</td>\n",
       "      <td>827</td>\n",
       "      <td>346</td>\n",
       "    </tr>\n",
       "    <tr>\n",
       "      <th>2013</th>\n",
       "      <td>530</td>\n",
       "      <td>516</td>\n",
       "      <td>313</td>\n",
       "      <td>168</td>\n",
       "      <td>25</td>\n",
       "      <td>375</td>\n",
       "      <td>567</td>\n",
       "      <td>98</td>\n",
       "      <td>282</td>\n",
       "      <td>3698</td>\n",
       "      <td>...</td>\n",
       "      <td>48</td>\n",
       "      <td>6</td>\n",
       "      <td>1597</td>\n",
       "      <td>2299</td>\n",
       "      <td>231</td>\n",
       "      <td>1169</td>\n",
       "      <td>145</td>\n",
       "      <td>110</td>\n",
       "      <td>844</td>\n",
       "      <td>346</td>\n",
       "    </tr>\n",
       "    <tr>\n",
       "      <th>2014</th>\n",
       "      <td>538</td>\n",
       "      <td>519</td>\n",
       "      <td>302</td>\n",
       "      <td>159</td>\n",
       "      <td>25</td>\n",
       "      <td>372</td>\n",
       "      <td>547</td>\n",
       "      <td>96</td>\n",
       "      <td>283</td>\n",
       "      <td>3661</td>\n",
       "      <td>...</td>\n",
       "      <td>47</td>\n",
       "      <td>7</td>\n",
       "      <td>1610</td>\n",
       "      <td>2248</td>\n",
       "      <td>234</td>\n",
       "      <td>1188</td>\n",
       "      <td>143</td>\n",
       "      <td>108</td>\n",
       "      <td>845</td>\n",
       "      <td>344</td>\n",
       "    </tr>\n",
       "    <tr>\n",
       "      <th>2015</th>\n",
       "      <td>534</td>\n",
       "      <td>529</td>\n",
       "      <td>283</td>\n",
       "      <td>152</td>\n",
       "      <td>26</td>\n",
       "      <td>369</td>\n",
       "      <td>570</td>\n",
       "      <td>91</td>\n",
       "      <td>282</td>\n",
       "      <td>3637</td>\n",
       "      <td>...</td>\n",
       "      <td>49</td>\n",
       "      <td>6</td>\n",
       "      <td>1717</td>\n",
       "      <td>2134</td>\n",
       "      <td>243</td>\n",
       "      <td>1191</td>\n",
       "      <td>139</td>\n",
       "      <td>113</td>\n",
       "      <td>844</td>\n",
       "      <td>337</td>\n",
       "    </tr>\n",
       "    <tr>\n",
       "      <th>2016</th>\n",
       "      <td>540</td>\n",
       "      <td>531</td>\n",
       "      <td>279</td>\n",
       "      <td>147</td>\n",
       "      <td>28</td>\n",
       "      <td>367</td>\n",
       "      <td>565</td>\n",
       "      <td>86</td>\n",
       "      <td>275</td>\n",
       "      <td>3637</td>\n",
       "      <td>...</td>\n",
       "      <td>52</td>\n",
       "      <td>7</td>\n",
       "      <td>1794</td>\n",
       "      <td>2130</td>\n",
       "      <td>239</td>\n",
       "      <td>1193</td>\n",
       "      <td>133</td>\n",
       "      <td>108</td>\n",
       "      <td>834</td>\n",
       "      <td>326</td>\n",
       "    </tr>\n",
       "    <tr>\n",
       "      <th>2017</th>\n",
       "      <td>543</td>\n",
       "      <td>519</td>\n",
       "      <td>261</td>\n",
       "      <td>139</td>\n",
       "      <td>30</td>\n",
       "      <td>365</td>\n",
       "      <td>575</td>\n",
       "      <td>86</td>\n",
       "      <td>271</td>\n",
       "      <td>3597</td>\n",
       "      <td>...</td>\n",
       "      <td>52</td>\n",
       "      <td>6</td>\n",
       "      <td>1665</td>\n",
       "      <td>2153</td>\n",
       "      <td>239</td>\n",
       "      <td>1175</td>\n",
       "      <td>130</td>\n",
       "      <td>109</td>\n",
       "      <td>823</td>\n",
       "      <td>323</td>\n",
       "    </tr>\n",
       "    <tr>\n",
       "      <th>2018</th>\n",
       "      <td>533</td>\n",
       "      <td>529</td>\n",
       "      <td>244</td>\n",
       "      <td>136</td>\n",
       "      <td>32</td>\n",
       "      <td>359</td>\n",
       "      <td>570</td>\n",
       "      <td>85</td>\n",
       "      <td>264</td>\n",
       "      <td>3554</td>\n",
       "      <td>...</td>\n",
       "      <td>53</td>\n",
       "      <td>6</td>\n",
       "      <td>1552</td>\n",
       "      <td>2214</td>\n",
       "      <td>235</td>\n",
       "      <td>1158</td>\n",
       "      <td>128</td>\n",
       "      <td>103</td>\n",
       "      <td>817</td>\n",
       "      <td>313</td>\n",
       "    </tr>\n",
       "    <tr>\n",
       "      <th>2019</th>\n",
       "      <td>524</td>\n",
       "      <td>538</td>\n",
       "      <td>227</td>\n",
       "      <td>130</td>\n",
       "      <td>35</td>\n",
       "      <td>361</td>\n",
       "      <td>563</td>\n",
       "      <td>85</td>\n",
       "      <td>259</td>\n",
       "      <td>3491</td>\n",
       "      <td>...</td>\n",
       "      <td>54</td>\n",
       "      <td>6</td>\n",
       "      <td>1590</td>\n",
       "      <td>2167</td>\n",
       "      <td>234</td>\n",
       "      <td>1139</td>\n",
       "      <td>126</td>\n",
       "      <td>101</td>\n",
       "      <td>813</td>\n",
       "      <td>301</td>\n",
       "    </tr>\n",
       "    <tr>\n",
       "      <th>2020</th>\n",
       "      <td>525</td>\n",
       "      <td>541</td>\n",
       "      <td>242</td>\n",
       "      <td>129</td>\n",
       "      <td>37</td>\n",
       "      <td>357</td>\n",
       "      <td>565</td>\n",
       "      <td>84</td>\n",
       "      <td>256</td>\n",
       "      <td>3434</td>\n",
       "      <td>...</td>\n",
       "      <td>54</td>\n",
       "      <td>6</td>\n",
       "      <td>1569</td>\n",
       "      <td>2126</td>\n",
       "      <td>233</td>\n",
       "      <td>1122</td>\n",
       "      <td>122</td>\n",
       "      <td>99</td>\n",
       "      <td>811</td>\n",
       "      <td>304</td>\n",
       "    </tr>\n",
       "  </tbody>\n",
       "</table>\n",
       "<p>23 rows × 27 columns</p>\n",
       "</div>"
      ],
      "text/plain": [
       "       0    1    2    3   4    5    6    7    8     9   ...  17  18    19  \\\n",
       "1998  729  632  421    0  24  583  680  159  380  4432  ...  47   0  1600   \n",
       "1999  698  619  431    0  24  548  681  138  374  4424  ...  45   0  1570   \n",
       "2000  621  629  363    0  24  529  644  131  358  4153  ...  44   0  1532   \n",
       "2001  598  611  359    0  24  496  628  129  352  4197  ...  44   8  1551   \n",
       "2002  589  591  358    0  26  464  613  116  343  4134  ...  42   8  1546   \n",
       "2003  558  572  362    0  27  449  589  117  328  4026  ...  41   8  1551   \n",
       "2004  538  571  369    0  26  429  569  117  318  3947  ...  41   8  1502   \n",
       "2005  534  548  348    0  25  437  558  113  313  3895  ...  41   8  1486   \n",
       "2006  527  532  350    0  24  417  555  109  298  3799  ...  46   7  1443   \n",
       "2007  525  524  336  225  24  407  551  103  288  3759  ...  40   8  1490   \n",
       "2008  530  518  315  213  24  400  566  100  288  3857  ...  46   7  1587   \n",
       "2009  533  518  297  212  23  384  574   97  286  3748  ...  46   7  1562   \n",
       "2010  533  518  314  207  23  375  573   97  284  3718  ...  46   6  1518   \n",
       "2011  527  511  313  185  24  374  579   96  282  3664  ...  44   6  1504   \n",
       "2012  523  504  294  181  24  367  579   97  280  3644  ...  45   6  1541   \n",
       "2013  530  516  313  168  25  375  567   98  282  3698  ...  48   6  1597   \n",
       "2014  538  519  302  159  25  372  547   96  283  3661  ...  47   7  1610   \n",
       "2015  534  529  283  152  26  369  570   91  282  3637  ...  49   6  1717   \n",
       "2016  540  531  279  147  28  367  565   86  275  3637  ...  52   7  1794   \n",
       "2017  543  519  261  139  30  365  575   86  271  3597  ...  52   6  1665   \n",
       "2018  533  529  244  136  32  359  570   85  264  3554  ...  53   6  1552   \n",
       "2019  524  538  227  130  35  361  563   85  259  3491  ...  54   6  1590   \n",
       "2020  525  541  242  129  37  357  565   84  256  3434  ...  54   6  1569   \n",
       "\n",
       "        20   21    22   23   24    25   26  \n",
       "1998  3361  372     0  265  147  1278  471  \n",
       "1999  3215  357     0  251  149  1207  447  \n",
       "2000  2982  329     0  243  140  1141  426  \n",
       "2001  2930  305  1620  230  136  1182  425  \n",
       "2002  2935  299  1627  230  140  1154  403  \n",
       "2003  2816  288     0  214  131  1118  404  \n",
       "2004  2730  297  1566  202  134  1057  401  \n",
       "2005  2755  285  1625  199  120  1018  391  \n",
       "2006  2637  270  1639  185  113   942  385  \n",
       "2007  2677  269  1573  180  117   903  366  \n",
       "2008  2697  265  1483  174  113   888  366  \n",
       "2009  2585  255  1419  163  113   828  354  \n",
       "2010  2529  243  1179  159  109   845  349  \n",
       "2011  2446  242  1170  154  109   798  348  \n",
       "2012  2346  237  1163  150  111   827  346  \n",
       "2013  2299  231  1169  145  110   844  346  \n",
       "2014  2248  234  1188  143  108   845  344  \n",
       "2015  2134  243  1191  139  113   844  337  \n",
       "2016  2130  239  1193  133  108   834  326  \n",
       "2017  2153  239  1175  130  109   823  323  \n",
       "2018  2214  235  1158  128  103   817  313  \n",
       "2019  2167  234  1139  126  101   813  301  \n",
       "2020  2126  233  1122  122   99   811  304  \n",
       "\n",
       "[23 rows x 27 columns]"
      ]
     },
     "metadata": {},
     "output_type": "display_data"
    }
   ],
   "source": [
    "int_data_Eu = data_Eu.drop(labels=\"Countries\",axis=1)\n",
    "int_data_Eu = int_data_Eu.replace({':': 0}, regex=True)\n",
    "# removing special charachters from the objects in order to avoid ValueError: invalid literal for int() with base 10.\n",
    "int_data_Eu = int_data_Eu.replace('\\W', '', regex=True)\n",
    "int_data_Eu = int_data_Eu.transpose()\n",
    "int_data_Eu = int_data_Eu.astype(int)\n",
    "int_data_Eu.info()\n",
    "display(int_data_Eu)"
   ]
  },
  {
   "cell_type": "markdown",
   "id": "9bdd5b6d",
   "metadata": {},
   "source": [
    "Here I have displayed the averages for the selected countries to get a better understanding of what country might have a similar distribution of the cattle quantity."
   ]
  },
  {
   "cell_type": "code",
   "execution_count": 26,
   "id": "832d9021",
   "metadata": {
    "scrolled": true
   },
   "outputs": [
    {
     "data": {
      "text/plain": [
       "0      557.826087\n",
       "1      548.695652\n",
       "2      320.913043\n",
       "3      103.608696\n",
       "4       26.260870\n",
       "5      416.695652\n",
       "6      585.260870\n",
       "7      105.652174\n",
       "8      301.913043\n",
       "9     3830.695652\n",
       "10    4267.173913\n",
       "11     136.956522\n",
       "12     279.956522\n",
       "13    1155.869565\n",
       "14    1927.869565\n",
       "15     175.217391\n",
       "16     369.086957\n",
       "17      46.391304\n",
       "18       5.956522\n",
       "19    1568.565217\n",
       "20    2570.086957\n",
       "21     269.608696\n",
       "22    1104.304348\n",
       "23     176.739130\n",
       "24     118.826087\n",
       "25     948.565217\n",
       "26     368.521739\n",
       "dtype: float64"
      ]
     },
     "metadata": {},
     "output_type": "display_data"
    }
   ],
   "source": [
    "av_column = int_data_Eu.mean(axis=0)\n",
    "display(av_column)"
   ]
  },
  {
   "cell_type": "markdown",
   "id": "95cc35aa",
   "metadata": {},
   "source": [
    "# EU Supply data analysed and compared\n",
    "In order to find the correct country with similar supply of dairy cattle numbers I must run a few inferential statistical techniques to compare them. \n",
    "\n",
    "<h3>Hypothesis</h3>\n",
    "The population distribution of Dairy cattle has been equal between the country of Romania and Ireland according to thew EU data statistics collected from 1998 to 2020."
   ]
  },
  {
   "cell_type": "code",
   "execution_count": 27,
   "id": "1fe686a4",
   "metadata": {},
   "outputs": [
    {
     "name": "stdout",
     "output_type": "stream",
     "text": [
      "Ireland Mean: 1155.8695652173913\n",
      "Romania Mean: 1104.304347826087\n",
      "Spain Mean: 948.5652173913044\n"
     ]
    }
   ],
   "source": [
    "# Assigning the values of the countries within the converted fully numeric dataframe\n",
    "Ireland = int_data_Eu[13]\n",
    "print(\"Ireland Mean: \" + str(Ireland.mean()))\n",
    "Romania = int_data_Eu[22]\n",
    "print(\"Romania Mean: \" + str(Romania.mean()))\n",
    "Spain = int_data_Eu[25]\n",
    "print(\"Spain Mean: \" + str(Spain.mean()))"
   ]
  },
  {
   "cell_type": "markdown",
   "id": "5fca3bbf",
   "metadata": {},
   "source": [
    "<h2>Z-test</h2>\n",
    "The Z Test can be used to ascertain if there is a significant difference in amounts between the countries. In this scenario, the null hypothesis is that the growth and quantity of dairy cattle in both countries are equal. The hypothesis test would enable us to support or refute this claim. Usually, for hypothesis tests, a 5% level of significance is applied and the claim is rejected if the p-value is less than the level of significance."
   ]
  },
  {
   "cell_type": "code",
   "execution_count": 28,
   "id": "af25d907",
   "metadata": {},
   "outputs": [
    {
     "data": {
      "text/plain": [
       "(0.0, 1.0)"
      ]
     },
     "execution_count": 28,
     "metadata": {},
     "output_type": "execute_result"
    }
   ],
   "source": [
    "Country_MD = Ireland.mean() - Romania.mean() \n",
    "ztest(Ireland, Romania, value=Country_MD)"
   ]
  },
  {
   "cell_type": "markdown",
   "id": "f4aaa3cb",
   "metadata": {},
   "source": [
    "<h2>T-test</h2>\n",
    "The T-Test has a similar purpose as the Z-Test. However, it is applied when the population standard deviation is not known, or for samples with small sample sizes usually where the sample size is lower than 30."
   ]
  },
  {
   "cell_type": "code",
   "execution_count": 29,
   "id": "69d167a8",
   "metadata": {},
   "outputs": [
    {
     "data": {
      "text/plain": [
       "Ttest_1sampResult(statistic=1.7809032442726092, pvalue=0.08874237530230429)"
      ]
     },
     "execution_count": 29,
     "metadata": {},
     "output_type": "execute_result"
    }
   ],
   "source": [
    "st.ttest_1samp(Ireland, popmean=Romania.mean())"
   ]
  },
  {
   "cell_type": "markdown",
   "id": "a517c113",
   "metadata": {},
   "source": [
    "<h2>Pearson Correlation Test</h2>\n",
    "The correlation test tests if the relationship between these variables is statistically significant. The Pearson Correlation Coefficient is a popular correlation coefficient that measures the linear relationship between 2 variables. In this case I  used Pearson Correlation.\n",
    "\n",
    "In this case I will be testing the correlation of dairy cattle quantity between the two countries of Irland and spain for analysis in patterns between the country's growth in Dairy farming.\n",
    "\n",
    "The <code>pearsonr</code> function on Scipy returns the correlation coefficient and tests if the correlation is significant\n",
    "\n",
    "<h3>Conclusions</h3>\n",
    "Unfortunately the test resulted in a nagative correlation for unknown reasons as the average and general series of data is the most similar between these 2 countries in both given cases as proven by the dataset data itself and research conducted. \n",
    "\n",
    "It has however shown us that the correlation between the Irish and Spanish data is greater than the Irish and Romanian data."
   ]
  },
  {
   "cell_type": "code",
   "execution_count": 30,
   "id": "4d9950ec",
   "metadata": {},
   "outputs": [
    {
     "data": {
      "text/plain": [
       "(-0.15535041554379964, 0.4790683760078812)"
      ]
     },
     "execution_count": 30,
     "metadata": {},
     "output_type": "execute_result"
    }
   ],
   "source": [
    "st.pearsonr(Ireland, Spain)"
   ]
  },
  {
   "cell_type": "code",
   "execution_count": 31,
   "id": "4b279a54",
   "metadata": {},
   "outputs": [
    {
     "data": {
      "text/plain": [
       "(-0.21383333793493, 0.32722741386644627)"
      ]
     },
     "execution_count": 31,
     "metadata": {},
     "output_type": "execute_result"
    }
   ],
   "source": [
    "st.pearsonr(Ireland, Romania)"
   ]
  },
  {
   "cell_type": "markdown",
   "id": "7d5341f1",
   "metadata": {},
   "source": [
    "<h2>Wilcoxon Test</h2>\n",
    "The Wilcoxon signed-rank test is the non-parametric univariate test which is an alternative to the dependent t-test. It also is called the Wilcoxon T test, most commonly so when the statistic value is reported as a T value. Which scipy.stats.wilcoxon() uses for it’s calculation. This is the recommended test to use when the data violates the assumption of normality; which is the case with this data so far.\n",
    "\n",
    "Both of the variables have a significant p-value which means each variable violates the assumption of normality. Therefore, the Wilcoxon signed rank test, a.k.a the Wilcoxon T test, is the correct test to use to analyze this data.\n",
    "\n",
    "<h3>Conclusions</h3>\n",
    "As we can see the test proved more succesful than the last series executed for analysis with a P-Value of <code>0.776785135269165</code>. This in my opinion derives from thew lack of normal distribution within the dataset structure."
   ]
  },
  {
   "cell_type": "code",
   "execution_count": 32,
   "id": "9dbad87b",
   "metadata": {},
   "outputs": [
    {
     "name": "stdout",
     "output_type": "stream",
     "text": [
      "Ireland:\n",
      "ShapiroResult(statistic=0.8945345878601074, pvalue=0.01953703537583351)\n",
      "Romania:\n",
      "ShapiroResult(statistic=0.7398244738578796, pvalue=4.8182504542637616e-05)\n"
     ]
    },
    {
     "data": {
      "text/plain": [
       "WilcoxonResult(statistic=128.0, pvalue=0.776785135269165)"
      ]
     },
     "execution_count": 32,
     "metadata": {},
     "output_type": "execute_result"
    }
   ],
   "source": [
    "print('Ireland:')\n",
    "print(st.shapiro(Ireland))\n",
    "print('Romania:')\n",
    "print(st.shapiro(Romania))\n",
    "st.wilcoxon(Ireland, Romania)"
   ]
  },
  {
   "cell_type": "markdown",
   "id": "21c8e15f",
   "metadata": {},
   "source": [
    "<h2>Chi-Square Test</h2>\n",
    "To run the Chi-Square Test, the easiest way is to convert the data into a contingency table with frequencies. I will use the crosstab command from pandas.\n",
    "\n",
    "<h3>Conclusions</h3>\n"
   ]
  },
  {
   "cell_type": "markdown",
   "id": "0988a5e2",
   "metadata": {},
   "source": [
    "<h3>Chi-Square (Ireland and Romania)</h3>"
   ]
  },
  {
   "cell_type": "code",
   "execution_count": 33,
   "id": "ad27cecc",
   "metadata": {},
   "outputs": [
    {
     "data": {
      "text/plain": [
       "<AxesSubplot:xlabel='22', ylabel='13'>"
      ]
     },
     "execution_count": 33,
     "metadata": {},
     "output_type": "execute_result"
    },
    {
     "data": {
      "image/png": "[encoded data removed]",
      "text/plain": [
       "<Figure size 864x576 with 2 Axes>"
      ]
     },
     "metadata": {
      "needs_background": "light"
     },
     "output_type": "display_data"
    }
   ],
   "source": [
    "contigency= pd.crosstab(Ireland, Romania, normalize='index') \n",
    "plt.figure(figsize=(12,8)) \n",
    "sns.heatmap(contigency, annot=True, cmap=\"YlGnBu\")"
   ]
  },
  {
   "cell_type": "code",
   "execution_count": 34,
   "id": "c5d60ac8",
   "metadata": {},
   "outputs": [
    {
     "name": "stdout",
     "output_type": "stream",
     "text": [
      "0.2513008139441771\n"
     ]
    }
   ],
   "source": [
    "# Chi-square test of independence. \n",
    "c, p, dof, expected = chi2_contingency(contigency) \n",
    "# Print the p-value\n",
    "print(p)"
   ]
  },
  {
   "cell_type": "markdown",
   "id": "99f11fd4",
   "metadata": {},
   "source": [
    "<h3>Chi-Square (Ireland and Spain)</h3>"
   ]
  },
  {
   "cell_type": "code",
   "execution_count": 35,
   "id": "7e70338b",
   "metadata": {},
   "outputs": [
    {
     "data": {
      "text/plain": [
       "<AxesSubplot:xlabel='25', ylabel='13'>"
      ]
     },
     "execution_count": 35,
     "metadata": {},
     "output_type": "execute_result"
    },
    {
     "data": {
      "image/png": "[encoded data removed]",
      "text/plain": [
       "<Figure size 864x576 with 2 Axes>"
      ]
     },
     "metadata": {
      "needs_background": "light"
     },
     "output_type": "display_data"
    }
   ],
   "source": [
    "contigency= pd.crosstab(Ireland, Spain, normalize='index') \n",
    "plt.figure(figsize=(12,8)) \n",
    "sns.heatmap(contigency, annot=True, cmap=\"YlGnBu\")"
   ]
  },
  {
   "cell_type": "code",
   "execution_count": 36,
   "id": "b380909c",
   "metadata": {},
   "outputs": [
    {
     "name": "stdout",
     "output_type": "stream",
     "text": [
      "0.24615506857308492\n"
     ]
    }
   ],
   "source": [
    "# Chi-square test of independence\n",
    "c, p, dof, expected = chi2_contingency(contigency) \n",
    "# Print the p-value\n",
    "print(p)"
   ]
  },
  {
   "cell_type": "markdown",
   "id": "51f35f39",
   "metadata": {},
   "source": [
    "# Linear regression of Irish cattle birth data"
   ]
  },
  {
   "cell_type": "code",
   "execution_count": 37,
   "id": "37ee93fa",
   "metadata": {},
   "outputs": [
    {
     "data": {
      "text/html": [
       "<div>\n",
       "<style scoped>\n",
       "    .dataframe tbody tr th:only-of-type {\n",
       "        vertical-align: middle;\n",
       "    }\n",
       "\n",
       "    .dataframe tbody tr th {\n",
       "        vertical-align: top;\n",
       "    }\n",
       "\n",
       "    .dataframe thead th {\n",
       "        text-align: right;\n",
       "    }\n",
       "</style>\n",
       "<table border=\"1\" class=\"dataframe\">\n",
       "  <thead>\n",
       "    <tr style=\"text-align: right;\">\n",
       "      <th></th>\n",
       "      <th>BIRTH_MONTH</th>\n",
       "      <th>TOTAL_BIRTH</th>\n",
       "    </tr>\n",
       "  </thead>\n",
       "  <tbody>\n",
       "    <tr>\n",
       "      <th>0</th>\n",
       "      <td>4</td>\n",
       "      <td>3670</td>\n",
       "    </tr>\n",
       "    <tr>\n",
       "      <th>1</th>\n",
       "      <td>4</td>\n",
       "      <td>680</td>\n",
       "    </tr>\n",
       "    <tr>\n",
       "      <th>2</th>\n",
       "      <td>8</td>\n",
       "      <td>778</td>\n",
       "    </tr>\n",
       "    <tr>\n",
       "      <th>3</th>\n",
       "      <td>8</td>\n",
       "      <td>80</td>\n",
       "    </tr>\n",
       "    <tr>\n",
       "      <th>4</th>\n",
       "      <td>12</td>\n",
       "      <td>835</td>\n",
       "    </tr>\n",
       "  </tbody>\n",
       "</table>\n",
       "</div>"
      ],
      "text/plain": [
       "   BIRTH_MONTH  TOTAL_BIRTH\n",
       "0            4         3670\n",
       "1            4          680\n",
       "2            8          778\n",
       "3            8           80\n",
       "4           12          835"
      ]
     },
     "execution_count": 37,
     "metadata": {},
     "output_type": "execute_result"
    }
   ],
   "source": [
    "df = data_Births.loc[:, ['BIRTH_MONTH', 'TOTAL_BIRTH']]\n",
    "df.head()"
   ]
  },
  {
   "cell_type": "code",
   "execution_count": 38,
   "id": "e8650f8d",
   "metadata": {},
   "outputs": [
    {
     "data": {
      "text/html": [
       "<div>\n",
       "<style scoped>\n",
       "    .dataframe tbody tr th:only-of-type {\n",
       "        vertical-align: middle;\n",
       "    }\n",
       "\n",
       "    .dataframe tbody tr th {\n",
       "        vertical-align: top;\n",
       "    }\n",
       "\n",
       "    .dataframe thead th {\n",
       "        text-align: right;\n",
       "    }\n",
       "</style>\n",
       "<table border=\"1\" class=\"dataframe\">\n",
       "  <thead>\n",
       "    <tr style=\"text-align: right;\">\n",
       "      <th></th>\n",
       "      <th>BIRTH_MONTH</th>\n",
       "      <th>TOTAL_BIRTH</th>\n",
       "    </tr>\n",
       "  </thead>\n",
       "  <tbody>\n",
       "    <tr>\n",
       "      <th>0</th>\n",
       "      <td>0.272727</td>\n",
       "      <td>0.038281</td>\n",
       "    </tr>\n",
       "    <tr>\n",
       "      <th>1</th>\n",
       "      <td>0.272727</td>\n",
       "      <td>0.007042</td>\n",
       "    </tr>\n",
       "    <tr>\n",
       "      <th>2</th>\n",
       "      <td>0.636364</td>\n",
       "      <td>0.008066</td>\n",
       "    </tr>\n",
       "    <tr>\n",
       "      <th>3</th>\n",
       "      <td>0.636364</td>\n",
       "      <td>0.000773</td>\n",
       "    </tr>\n",
       "    <tr>\n",
       "      <th>4</th>\n",
       "      <td>1.000000</td>\n",
       "      <td>0.008661</td>\n",
       "    </tr>\n",
       "  </tbody>\n",
       "</table>\n",
       "</div>"
      ],
      "text/plain": [
       "   BIRTH_MONTH  TOTAL_BIRTH\n",
       "0     0.272727     0.038281\n",
       "1     0.272727     0.007042\n",
       "2     0.636364     0.008066\n",
       "3     0.636364     0.000773\n",
       "4     1.000000     0.008661"
      ]
     },
     "execution_count": 38,
     "metadata": {},
     "output_type": "execute_result"
    }
   ],
   "source": [
    "df_columns = df.columns\n",
    "scaler = MinMaxScaler()\n",
    "df = scaler.fit_transform(df)\n",
    "\n",
    "# rename columns (since now its an np array)\n",
    "df = pd.DataFrame(df)\n",
    "df.columns = df_columns\n",
    "\n",
    "df.head()"
   ]
  },
  {
   "cell_type": "code",
   "execution_count": 39,
   "id": "b82f3abf",
   "metadata": {},
   "outputs": [
    {
     "data": {
      "text/plain": [
       "<AxesSubplot:xlabel='TOTAL_BIRTH', ylabel='BIRTH_MONTH'>"
      ]
     },
     "execution_count": 39,
     "metadata": {},
     "output_type": "execute_result"
    },
    {
     "data": {
      "image/png": "[encoded data removed]",
      "text/plain": [
       "<Figure size 432x288 with 1 Axes>"
      ]
     },
     "metadata": {
      "needs_background": "light"
     },
     "output_type": "display_data"
    }
   ],
   "source": [
    "# visualise area-price relationship\n",
    "sns.regplot(x=\"TOTAL_BIRTH\", y=\"BIRTH_MONTH\", data=df, fit_reg=False)"
   ]
  },
  {
   "cell_type": "code",
   "execution_count": 40,
   "id": "224f88bf",
   "metadata": {},
   "outputs": [
    {
     "name": "stdout",
     "output_type": "stream",
     "text": [
      "436\n",
      "188\n"
     ]
    }
   ],
   "source": [
    "# split into train and test\n",
    "df_train, df_test = train_test_split(df, \n",
    "                                     train_size = 0.7, \n",
    "                                     test_size = 0.3, \n",
    "                                     random_state = 10)\n",
    "print(len(df_train))\n",
    "print(len(df_test))"
   ]
  },
  {
   "cell_type": "code",
   "execution_count": 41,
   "id": "6aa6a89d",
   "metadata": {},
   "outputs": [
    {
     "data": {
      "text/plain": [
       "436"
      ]
     },
     "execution_count": 41,
     "metadata": {},
     "output_type": "execute_result"
    }
   ],
   "source": [
    "# split into X and y for both train and test sets\n",
    "# reshaping is required since sklearn requires the data to be in shape\n",
    "# (n, 1), not as a series of shape (n, )\n",
    "X_train = df_train['BIRTH_MONTH']\n",
    "X_train = X_train.values.reshape(-1, 1)\n",
    "y_train = df_train['TOTAL_BIRTH']\n",
    "\n",
    "X_test = df_test['BIRTH_MONTH']\n",
    "X_test = X_test.values.reshape(-1, 1)\n",
    "y_test = df_test['TOTAL_BIRTH']\n",
    "\n",
    "len(X_train)"
   ]
  },
  {
   "cell_type": "code",
   "execution_count": 42,
   "id": "6459737a",
   "metadata": {},
   "outputs": [],
   "source": [
    "# fit multiple polynomial features\n",
    "degrees = [1, 2, 3, 6, 10, 20]\n",
    "\n",
    "# initialise y_train_pred and y_test_pred matrices to store the train and test predictions\n",
    "# each row is a data point, each column a prediction using a polynomial of some degree\n",
    "y_train_pred = np.zeros((len(X_train), len(degrees)))\n",
    "y_test_pred = np.zeros((len(X_test), len(degrees)))\n",
    "\n",
    "for i, degree in enumerate(degrees):\n",
    "    \n",
    "    # make pipeline: create features, then feed them to linear_reg model\n",
    "    model = make_pipeline(PolynomialFeatures(degree), LinearRegression())\n",
    "    model.fit(X_train, y_train)\n",
    "    \n",
    "    # predict on test and train data\n",
    "    # store the predictions of each degree in the corresponding column\n",
    "    y_train_pred[:, i] = model.predict(X_train)\n",
    "    y_test_pred[:, i] = model.predict(X_test)"
   ]
  },
  {
   "cell_type": "code",
   "execution_count": 43,
   "id": "f3dcfcf8",
   "metadata": {},
   "outputs": [
    {
     "data": {
      "image/png": "[encoded data removed]",
      "text/plain": [
       "<Figure size 1152x576 with 2 Axes>"
      ]
     },
     "metadata": {
      "needs_background": "light"
     },
     "output_type": "display_data"
    }
   ],
   "source": [
    "# visualise train and test predictions\n",
    "# note that the y axis is on a log scale\n",
    "\n",
    "plt.figure(figsize=(16, 8))\n",
    "\n",
    "# train data\n",
    "plt.subplot(121)\n",
    "plt.scatter(X_train, y_train)\n",
    "plt.yscale('log')\n",
    "plt.title(\"Train data\")\n",
    "for i, degree in enumerate(degrees):    \n",
    "    plt.scatter(X_train, y_train_pred[:, i], s=15, label=str(degree))\n",
    "    plt.legend(loc='upper left')\n",
    "    \n",
    "# test data\n",
    "plt.subplot(122)\n",
    "plt.scatter(X_test, y_test)\n",
    "plt.yscale('log')\n",
    "plt.title(\"Test data\")\n",
    "for i, degree in enumerate(degrees):    \n",
    "    plt.scatter(X_test, y_test_pred[:, i], label=str(degree))\n",
    "    plt.legend(loc='upper left')"
   ]
  },
  {
   "cell_type": "code",
   "execution_count": 44,
   "id": "bc2e8d1b",
   "metadata": {},
   "outputs": [
    {
     "name": "stdout",
     "output_type": "stream",
     "text": [
      "R-squared values: \n",
      "\n",
      "Polynomial degree 1: train score=0.13, test score=0.18\n",
      "Polynomial degree 2: train score=0.13, test score=0.19\n",
      "Polynomial degree 3: train score=0.16, test score=0.2\n",
      "Polynomial degree 6: train score=0.21, test score=0.25\n",
      "Polynomial degree 10: train score=0.21, test score=0.25\n",
      "Polynomial degree 20: train score=0.21, test score=0.25\n"
     ]
    }
   ],
   "source": [
    "# compare r2 for train and test sets (for all polynomial fits)\n",
    "print(\"R-squared values: \\n\")\n",
    "\n",
    "for i, degree in enumerate(degrees):\n",
    "    train_r2 = round(sklearn.metrics.r2_score(y_train, y_train_pred[:, i]), 2)\n",
    "    test_r2 = round(sklearn.metrics.r2_score(y_test, y_test_pred[:, i]), 2)\n",
    "    print(\"Polynomial degree {0}: train score={1}, test score={2}\".format(degree, \n",
    "                                                                         train_r2, \n",
    "                                                                         test_r2))"
   ]
  },
  {
   "cell_type": "markdown",
   "id": "b93971e2",
   "metadata": {},
   "source": [
    "<h2>K-Fold Cross-validation</h2>"
   ]
  },
  {
   "cell_type": "code",
   "execution_count": 45,
   "id": "7a26f376",
   "metadata": {},
   "outputs": [
    {
     "data": {
      "text/plain": [
       "array([0.13385185, 0.17718715, 0.1479969 , 0.11782036, 0.07765848])"
      ]
     },
     "execution_count": 45,
     "metadata": {},
     "output_type": "execute_result"
    }
   ],
   "source": [
    "lm = LinearRegression()\n",
    "scores = cross_val_score(lm, X_train, y_train, scoring='r2', cv=5)\n",
    "scores    "
   ]
  },
  {
   "cell_type": "code",
   "execution_count": 46,
   "id": "051e53e1",
   "metadata": {},
   "outputs": [
    {
     "data": {
      "text/plain": [
       "array([ 0.08904823,  0.16940249,  0.15161628, -0.17319303,  0.07488215])"
      ]
     },
     "execution_count": 46,
     "metadata": {},
     "output_type": "execute_result"
    }
   ],
   "source": [
    "# create a KFold object with 5 splits \n",
    "folds = KFold(n_splits = 5, shuffle = True, random_state = 100)\n",
    "scores = cross_val_score(lm, X_train, y_train, scoring='r2', cv=folds)\n",
    "scores"
   ]
  },
  {
   "cell_type": "code",
   "execution_count": 47,
   "id": "04e75f95",
   "metadata": {},
   "outputs": [
    {
     "data": {
      "text/plain": [
       "array([-0.00596931, -0.00203703, -0.00377591, -0.00235951, -0.01195717])"
      ]
     },
     "execution_count": 47,
     "metadata": {},
     "output_type": "execute_result"
    }
   ],
   "source": [
    "# Tuning MSE Metrics\n",
    "scores = cross_val_score(lm, X_train, y_train, scoring='neg_mean_squared_error', cv=5)\n",
    "scores"
   ]
  },
  {
   "cell_type": "markdown",
   "id": "4f76a34e",
   "metadata": {},
   "source": [
    "# Irish Agricultural Tweet Sentimental analysis"
   ]
  },
  {
   "cell_type": "markdown",
   "id": "a572959a",
   "metadata": {},
   "source": [
    "<h3>Twitter data collection</h3>"
   ]
  },
  {
   "cell_type": "code",
   "execution_count": 48,
   "id": "dc05fff0",
   "metadata": {},
   "outputs": [
    {
     "name": "stdout",
     "output_type": "stream",
     "text": [
      "<class 'pandas.core.frame.DataFrame'>\n",
      "RangeIndex: 167 entries, 0 to 166\n",
      "Data columns (total 4 columns):\n",
      " #   Column           Non-Null Count  Dtype              \n",
      "---  ------           --------------  -----              \n",
      " 0   text             167 non-null    object             \n",
      " 1   favourite_count  167 non-null    int64              \n",
      " 2   retweet_count    167 non-null    int64              \n",
      " 3   created_at       167 non-null    datetime64[ns, UTC]\n",
      "dtypes: datetime64[ns, UTC](1), int64(2), object(1)\n",
      "memory usage: 5.3+ KB\n"
     ]
    }
   ],
   "source": [
    "consumer_key = \"GKzx7Vq67DJ85cy925wDUKdZd\"\n",
    "consumer_secret = \"DCJtAO5GI8gR8yX62XjAnXDAXjkOyRLREsS0j55u8QcK8qdHqp\"\n",
    "access_key = \"1243153982048161798-VCjbW7rA3LxKqm5pvq3SSfdqq3w0N6\"\n",
    "access_secret = \"cjtn7vSN8bDTCbP6Lqyzoy62RjTkmNKmTUXUYKsHIDD71\"\n",
    "\n",
    "# Twitter authentication\n",
    "auth = tweepy.OAuthHandler(consumer_key, consumer_secret)   \n",
    "auth.set_access_token(access_key, access_secret) \n",
    "# Creating an API object \n",
    "api = tweepy.API(auth)\n",
    "\n",
    "# Query Construct\n",
    "Query = \"Ireland + farming -filter:retweets\"\n",
    "\n",
    "# API Request\n",
    "tweets_list = tweepy.Cursor(api.search_tweets, q=Query, tweet_mode='extended').items(200)\n",
    "\n",
    "output = []\n",
    "for tweet in tweets_list:\n",
    "    text = tweet._json[\"full_text\"]\n",
    "    favourite_count = tweet.favorite_count\n",
    "    retweet_count = tweet.retweet_count\n",
    "    created_at = tweet.created_at\n",
    "    \n",
    "    line = {'text' : text, 'favourite_count' : favourite_count, 'retweet_count' : retweet_count, 'created_at' : created_at}\n",
    "    output.append(line)\n",
    "df_tweets = pd.DataFrame(output)\n",
    "# Cleaning tweets of special charachters\n",
    "df_tweets['text'] = df_tweets['text'].replace('\\W', ' ', regex=True)\n",
    "df_tweets.head()\n",
    "df_tweets.info()"
   ]
  },
  {
   "cell_type": "markdown",
   "id": "27e9f837",
   "metadata": {},
   "source": [
    "<h2>Twitter data sentiment analysis</h2>"
   ]
  },
  {
   "cell_type": "markdown",
   "id": "56d8393e",
   "metadata": {},
   "source": [
    "<h3>Model Settings</h3>"
   ]
  },
  {
   "cell_type": "code",
   "execution_count": 49,
   "id": "b51a8d10",
   "metadata": {},
   "outputs": [],
   "source": [
    "# TRAIN DATA SIZE\n",
    "TRAIN_SIZE = 0.8\n",
    "\n",
    "# TEXT CLENAING\n",
    "TEXT_CLEANING_RE = \"@\\S+|https?:\\S+|http?:\\S|[^A-Za-z0-9]+\"\n",
    "\n",
    "# WORD2VEC \n",
    "W2V_SIZE = 100\n",
    "W2V_WINDOW = 7\n",
    "W2V_EPOCH = 32\n",
    "W2V_MIN_COUNT = 10\n",
    "\n",
    "# KERAS\n",
    "SEQUENCE_LENGTH = 300\n",
    "EPOCHS = 8\n",
    "BATCH_SIZE = 1024\n",
    "\n",
    "# SENTIMENT\n",
    "POSITIVE = \"POSITIVE\"\n",
    "NEGATIVE = \"NEGATIVE\"\n",
    "NEUTRAL = \"NEUTRAL\"\n",
    "SENTIMENT_THRESHOLDS = (0.4, 0.7, 0.9)\n",
    "\n",
    "# EXPORT\n",
    "KERAS_MODEL = \"model.h5\"\n",
    "WORD2VEC_MODEL = \"model.w2v\"\n",
    "TOKENIZER_MODEL = \"tokenizer.pkl\"\n",
    "ENCODER_MODEL = \"encoder.pkl\""
   ]
  },
  {
   "cell_type": "code",
   "execution_count": 50,
   "id": "d6281f11",
   "metadata": {},
   "outputs": [],
   "source": [
    "decode_map = {0: \"NEGATIVE\", 2: \"NEUTRAL\", 4: \"POSITIVE\"}\n",
    "def decode_sentiment(label):\n",
    "    return decode_map[int(label)]\n",
    "\n",
    "# Adding empty columns\n",
    "df_tweets[[\"target\"]] = 0\n",
    "df = df_tweets\n",
    "df.target = df.target.apply(lambda x: decode_sentiment(x))"
   ]
  },
  {
   "cell_type": "code",
   "execution_count": 51,
   "id": "858766a8",
   "metadata": {},
   "outputs": [
    {
     "data": {
      "text/plain": [
       "Text(0.5, 1.0, 'Dataset labels distribuition')"
      ]
     },
     "execution_count": 51,
     "metadata": {},
     "output_type": "execute_result"
    },
    {
     "data": {
      "image/png": "[encoded data removed]",
      "text/plain": [
       "<Figure size 1152x576 with 1 Axes>"
      ]
     },
     "metadata": {
      "needs_background": "light"
     },
     "output_type": "display_data"
    }
   ],
   "source": [
    "target_cnt = Counter(df.target)\n",
    "\n",
    "plt.figure(figsize=(16,8))\n",
    "plt.bar(target_cnt.keys(), target_cnt.values())\n",
    "plt.title(\"Dataset labels distribuition\")"
   ]
  },
  {
   "cell_type": "code",
   "execution_count": 52,
   "id": "c33c68bb",
   "metadata": {},
   "outputs": [],
   "source": [
    "stop_words = stopwords.words(\"english\")\n",
    "stemmer = SnowballStemmer(\"english\")\n",
    "\n",
    "def preprocess(text, stem=False):\n",
    "    # Remove link,user and special characters\n",
    "    text = re.sub(TEXT_CLEANING_RE, ' ', str(text).lower()).strip()\n",
    "    tokens = []\n",
    "    for token in text.split():\n",
    "        if token not in stop_words:\n",
    "            if stem:\n",
    "                tokens.append(stemmer.stem(token))\n",
    "            else:\n",
    "                tokens.append(token)\n",
    "    return \" \".join(tokens)"
   ]
  },
  {
   "cell_type": "code",
   "execution_count": 53,
   "id": "4847e050",
   "metadata": {},
   "outputs": [
    {
     "name": "stdout",
     "output_type": "stream",
     "text": [
      "CPU times: total: 15.6 ms\n",
      "Wall time: 13.5 ms\n"
     ]
    }
   ],
   "source": [
    "%%time\n",
    "df.text = df.text.apply(lambda x: preprocess(x))"
   ]
  },
  {
   "cell_type": "code",
   "execution_count": 54,
   "id": "66fd77d3",
   "metadata": {},
   "outputs": [
    {
     "name": "stdout",
     "output_type": "stream",
     "text": [
      "TRAIN size: 133\n",
      "TEST size: 34\n"
     ]
    }
   ],
   "source": [
    "df_train, df_test = train_test_split(df, test_size=1-TRAIN_SIZE, random_state=42)\n",
    "print(\"TRAIN size:\", len(df_train))\n",
    "print(\"TEST size:\", len(df_test))"
   ]
  },
  {
   "cell_type": "markdown",
   "id": "a8e20555",
   "metadata": {},
   "source": [
    "<h3>Words to vector</h3>"
   ]
  },
  {
   "cell_type": "code",
   "execution_count": 55,
   "id": "ece9a863",
   "metadata": {},
   "outputs": [
    {
     "name": "stdout",
     "output_type": "stream",
     "text": [
      "CPU times: total: 0 ns\n",
      "Wall time: 1.5 ms\n"
     ]
    }
   ],
   "source": [
    "%%time\n",
    "documents = [_text.split() for _text in df_train.text] "
   ]
  },
  {
   "cell_type": "code",
   "execution_count": 56,
   "id": "84d78704",
   "metadata": {},
   "outputs": [],
   "source": [
    "w2v_model = gensim.models.word2vec.Word2Vec(window=W2V_WINDOW, \n",
    "                                            min_count=W2V_MIN_COUNT, \n",
    "                                            workers=8)\n",
    "\n",
    "w2v_model.build_vocab(documents)"
   ]
  },
  {
   "cell_type": "code",
   "execution_count": 57,
   "id": "5927a3f8",
   "metadata": {},
   "outputs": [
    {
     "name": "stdout",
     "output_type": "stream",
     "text": [
      "CPU times: total: 0 ns\n",
      "Wall time: 146 ms\n"
     ]
    },
    {
     "data": {
      "text/plain": [
       "(1812, 92256)"
      ]
     },
     "execution_count": 57,
     "metadata": {},
     "output_type": "execute_result"
    }
   ],
   "source": [
    "%%time\n",
    "w2v_model.train(documents, total_examples=len(documents), epochs=W2V_EPOCH)"
   ]
  },
  {
   "cell_type": "code",
   "execution_count": 58,
   "id": "1c5d26bd",
   "metadata": {},
   "outputs": [
    {
     "data": {
      "text/plain": [
       "[('agriculture', 0.6460103392601013),\n",
       " ('co', 0.6128554344177246),\n",
       " ('https', 0.5941216349601746),\n",
       " ('ie', 0.586724042892456),\n",
       " ('food', 0.5838621854782104),\n",
       " ('farming', 0.5834276080131531),\n",
       " ('irish', 0.5467739701271057),\n",
       " ('amp', 0.4973355531692505),\n",
       " ('farmers', 0.45023486018180847),\n",
       " ('farm', 0.4473775327205658)]"
      ]
     },
     "execution_count": 58,
     "metadata": {},
     "output_type": "execute_result"
    }
   ],
   "source": [
    "w2v_model.wv.most_similar('ireland', topn=100)"
   ]
  },
  {
   "cell_type": "markdown",
   "id": "7aa12a2b",
   "metadata": {},
   "source": [
    "<h3>Tokenize Text</h3>"
   ]
  },
  {
   "cell_type": "code",
   "execution_count": 59,
   "id": "012994ef",
   "metadata": {},
   "outputs": [
    {
     "name": "stdout",
     "output_type": "stream",
     "text": [
      "Total words 1559\n",
      "CPU times: total: 0 ns\n",
      "Wall time: 5.11 ms\n"
     ]
    }
   ],
   "source": [
    "%%time\n",
    "tokenizer = Tokenizer()\n",
    "tokenizer.fit_on_texts(df_train.text)\n",
    "\n",
    "vocab_size = len(tokenizer.word_index) + 1\n",
    "print(\"Total words\", vocab_size)"
   ]
  },
  {
   "cell_type": "code",
   "execution_count": 60,
   "id": "bcce055b",
   "metadata": {},
   "outputs": [
    {
     "name": "stdout",
     "output_type": "stream",
     "text": [
      "CPU times: total: 0 ns\n",
      "Wall time: 3.99 ms\n"
     ]
    }
   ],
   "source": [
    "%%time\n",
    "x_train = pad_sequences(tokenizer.texts_to_sequences(df_train.text), maxlen=SEQUENCE_LENGTH)\n",
    "x_test = pad_sequences(tokenizer.texts_to_sequences(df_test.text), maxlen=SEQUENCE_LENGTH)"
   ]
  },
  {
   "cell_type": "code",
   "execution_count": 61,
   "id": "4dc83226",
   "metadata": {},
   "outputs": [
    {
     "data": {
      "text/plain": [
       "['NEGATIVE', 'NEUTRAL']"
      ]
     },
     "execution_count": 61,
     "metadata": {},
     "output_type": "execute_result"
    }
   ],
   "source": [
    "labels = df_train.target.unique().tolist()\n",
    "labels.append(NEUTRAL)\n",
    "labels"
   ]
  },
  {
   "cell_type": "code",
   "execution_count": 62,
   "id": "8535d3ce",
   "metadata": {},
   "outputs": [
    {
     "name": "stdout",
     "output_type": "stream",
     "text": [
      "y_train (133, 1)\n",
      "y_test (34, 1)\n"
     ]
    }
   ],
   "source": [
    "encoder = LabelEncoder()\n",
    "encoder.fit(df_train.target.tolist())\n",
    "\n",
    "y_train = encoder.transform(df_train.target.tolist())\n",
    "y_test = encoder.transform(df_test.target.tolist())\n",
    "\n",
    "y_train = y_train.reshape(-1,1)\n",
    "y_test = y_test.reshape(-1,1)\n",
    "\n",
    "print(\"y_train\",y_train.shape)\n",
    "print(\"y_test\",y_test.shape)"
   ]
  },
  {
   "cell_type": "code",
   "execution_count": 63,
   "id": "721681f0",
   "metadata": {},
   "outputs": [
    {
     "name": "stdout",
     "output_type": "stream",
     "text": [
      "x_train (133, 300)\n",
      "y_train (133, 1)\n",
      "\n",
      "x_test (34, 300)\n",
      "y_test (34, 1)\n"
     ]
    }
   ],
   "source": [
    "print(\"x_train\", x_train.shape)\n",
    "print(\"y_train\", y_train.shape)\n",
    "print()\n",
    "print(\"x_test\", x_test.shape)\n",
    "print(\"y_test\", y_test.shape)"
   ]
  },
  {
   "cell_type": "markdown",
   "id": "b7a6aa87",
   "metadata": {},
   "source": [
    "<h3>Embedding layer</h3>"
   ]
  },
  {
   "cell_type": "code",
   "execution_count": 64,
   "id": "16cdbfee",
   "metadata": {},
   "outputs": [
    {
     "name": "stdout",
     "output_type": "stream",
     "text": [
      "(1559, 100)\n"
     ]
    }
   ],
   "source": [
    "embedding_matrix = np.zeros((vocab_size, W2V_SIZE))\n",
    "for word, i in tokenizer.word_index.items():\n",
    "  if word in w2v_model.wv:\n",
    "    embedding_matrix[i] = w2v_model.wv[word]\n",
    "print(embedding_matrix.shape)"
   ]
  },
  {
   "cell_type": "code",
   "execution_count": 65,
   "id": "6e0b3af2",
   "metadata": {},
   "outputs": [],
   "source": [
    "embedding_layer = Embedding(vocab_size, W2V_SIZE, weights=[embedding_matrix], input_length=SEQUENCE_LENGTH, trainable=False)"
   ]
  },
  {
   "cell_type": "markdown",
   "id": "599ccb83",
   "metadata": {},
   "source": [
    "<h3>Building the Model</h3>"
   ]
  },
  {
   "cell_type": "code",
   "execution_count": 66,
   "id": "71709402",
   "metadata": {},
   "outputs": [
    {
     "name": "stdout",
     "output_type": "stream",
     "text": [
      "Model: \"sequential\"\n",
      "_________________________________________________________________\n",
      " Layer (type)                Output Shape              Param #   \n",
      "=================================================================\n",
      " embedding (Embedding)       (None, 300, 100)          155900    \n",
      "                                                                 \n",
      " dropout (Dropout)           (None, 300, 100)          0         \n",
      "                                                                 \n",
      " lstm (LSTM)                 (None, 100)               80400     \n",
      "                                                                 \n",
      " dense (Dense)               (None, 1)                 101       \n",
      "                                                                 \n",
      "=================================================================\n",
      "Total params: 236,401\n",
      "Trainable params: 80,501\n",
      "Non-trainable params: 155,900\n",
      "_________________________________________________________________\n"
     ]
    }
   ],
   "source": [
    "model = Sequential()\n",
    "model.add(embedding_layer)\n",
    "model.add(Dropout(0.5))\n",
    "model.add(LSTM(100, dropout=0.2, recurrent_dropout=0.2))\n",
    "model.add(Dense(1, activation='sigmoid'))\n",
    "model.summary()"
   ]
  },
  {
   "cell_type": "markdown",
   "id": "64866d57",
   "metadata": {},
   "source": [
    "<h3>Compiling the Model</h3>"
   ]
  },
  {
   "cell_type": "code",
   "execution_count": 67,
   "id": "d1e5ba5f",
   "metadata": {},
   "outputs": [],
   "source": [
    "model.compile(loss='binary_crossentropy',\n",
    "              optimizer=\"adam\",\n",
    "              metrics=['accuracy'])"
   ]
  },
  {
   "cell_type": "code",
   "execution_count": 68,
   "id": "51a2f77e",
   "metadata": {},
   "outputs": [],
   "source": [
    "# Initiating Callback\n",
    "callbacks = [ ReduceLROnPlateau(monitor='val_loss', patience=5, cooldown=0),\n",
    "              EarlyStopping(monitor='val_acc', min_delta=1e-4, patience=5)]"
   ]
  },
  {
   "cell_type": "code",
   "execution_count": 69,
   "id": "13657801",
   "metadata": {},
   "outputs": [
    {
     "name": "stdout",
     "output_type": "stream",
     "text": [
      "Epoch 1/8\n",
      "1/1 [==============================] - ETA: 0s - loss: 0.6932 - accuracy: 0.5210WARNING:tensorflow:Early stopping conditioned on metric `val_acc` which is not available. Available metrics are: loss,accuracy,val_loss,val_accuracy,lr\n",
      "1/1 [==============================] - 4s 4s/step - loss: 0.6932 - accuracy: 0.5210 - val_loss: 0.6854 - val_accuracy: 1.0000 - lr: 0.0010\n",
      "Epoch 2/8\n",
      "1/1 [==============================] - ETA: 0s - loss: 0.6854 - accuracy: 1.0000WARNING:tensorflow:Early stopping conditioned on metric `val_acc` which is not available. Available metrics are: loss,accuracy,val_loss,val_accuracy,lr\n",
      "1/1 [==============================] - 2s 2s/step - loss: 0.6854 - accuracy: 1.0000 - val_loss: 0.6772 - val_accuracy: 1.0000 - lr: 0.0010\n",
      "Epoch 3/8\n",
      "1/1 [==============================] - ETA: 0s - loss: 0.6773 - accuracy: 1.0000WARNING:tensorflow:Early stopping conditioned on metric `val_acc` which is not available. Available metrics are: loss,accuracy,val_loss,val_accuracy,lr\n",
      "1/1 [==============================] - 2s 2s/step - loss: 0.6773 - accuracy: 1.0000 - val_loss: 0.6680 - val_accuracy: 1.0000 - lr: 0.0010\n",
      "Epoch 4/8\n",
      "1/1 [==============================] - ETA: 0s - loss: 0.6682 - accuracy: 1.0000WARNING:tensorflow:Early stopping conditioned on metric `val_acc` which is not available. Available metrics are: loss,accuracy,val_loss,val_accuracy,lr\n",
      "1/1 [==============================] - 2s 2s/step - loss: 0.6682 - accuracy: 1.0000 - val_loss: 0.6569 - val_accuracy: 1.0000 - lr: 0.0010\n",
      "Epoch 5/8\n",
      "1/1 [==============================] - ETA: 0s - loss: 0.6571 - accuracy: 1.0000WARNING:tensorflow:Early stopping conditioned on metric `val_acc` which is not available. Available metrics are: loss,accuracy,val_loss,val_accuracy,lr\n",
      "1/1 [==============================] - 2s 2s/step - loss: 0.6571 - accuracy: 1.0000 - val_loss: 0.6431 - val_accuracy: 1.0000 - lr: 0.0010\n",
      "Epoch 6/8\n",
      "1/1 [==============================] - ETA: 0s - loss: 0.6435 - accuracy: 1.0000WARNING:tensorflow:Early stopping conditioned on metric `val_acc` which is not available. Available metrics are: loss,accuracy,val_loss,val_accuracy,lr\n",
      "1/1 [==============================] - 2s 2s/step - loss: 0.6435 - accuracy: 1.0000 - val_loss: 0.6255 - val_accuracy: 1.0000 - lr: 0.0010\n",
      "Epoch 7/8\n",
      "1/1 [==============================] - ETA: 0s - loss: 0.6263 - accuracy: 1.0000WARNING:tensorflow:Early stopping conditioned on metric `val_acc` which is not available. Available metrics are: loss,accuracy,val_loss,val_accuracy,lr\n",
      "1/1 [==============================] - 2s 2s/step - loss: 0.6263 - accuracy: 1.0000 - val_loss: 0.6021 - val_accuracy: 1.0000 - lr: 0.0010\n",
      "Epoch 8/8\n",
      "1/1 [==============================] - ETA: 0s - loss: 0.6029 - accuracy: 1.0000WARNING:tensorflow:Early stopping conditioned on metric `val_acc` which is not available. Available metrics are: loss,accuracy,val_loss,val_accuracy,lr\n",
      "1/1 [==============================] - 2s 2s/step - loss: 0.6029 - accuracy: 1.0000 - val_loss: 0.5688 - val_accuracy: 1.0000 - lr: 0.0010\n",
      "CPU times: total: 6.25 s\n",
      "Wall time: 16.3 s\n"
     ]
    }
   ],
   "source": [
    "%%time\n",
    "# Training the model\n",
    "history = model.fit(x_train, y_train,\n",
    "                    batch_size=BATCH_SIZE,\n",
    "                    epochs=EPOCHS,\n",
    "                    validation_split=0.1,\n",
    "                    verbose=1,\n",
    "                    callbacks=callbacks)"
   ]
  },
  {
   "cell_type": "markdown",
   "id": "b1f977a8",
   "metadata": {},
   "source": [
    "<h3>Evaluating the Model</h3>"
   ]
  },
  {
   "cell_type": "code",
   "execution_count": 70,
   "id": "ca51bca5",
   "metadata": {},
   "outputs": [
    {
     "name": "stdout",
     "output_type": "stream",
     "text": [
      "1/1 [==============================] - 0s 74ms/step - loss: 0.5663 - accuracy: 1.0000\n",
      "\n",
      "ACCURACY: 1.0\n",
      "LOSS: 0.5662904977798462\n",
      "CPU times: total: 62.5 ms\n",
      "Wall time: 108 ms\n"
     ]
    }
   ],
   "source": [
    "%%time\n",
    "score = model.evaluate(x_test, y_test, batch_size=BATCH_SIZE)\n",
    "print()\n",
    "print(\"ACCURACY:\",score[1])\n",
    "print(\"LOSS:\",score[0])"
   ]
  },
  {
   "cell_type": "markdown",
   "id": "6620e78c",
   "metadata": {},
   "source": [
    "<h3>Making Predictions</h3>"
   ]
  },
  {
   "cell_type": "code",
   "execution_count": 71,
   "id": "187da24c",
   "metadata": {},
   "outputs": [],
   "source": [
    "# Functions\n",
    "def decode_sentiment(score, include_neutral=True):\n",
    "    if include_neutral:        \n",
    "        label = NEUTRAL\n",
    "        if score <= SENTIMENT_THRESHOLDS[0]:\n",
    "            label = NEGATIVE\n",
    "        elif score >= SENTIMENT_THRESHOLDS[1]:\n",
    "            label = POSITIVE\n",
    "\n",
    "        return label\n",
    "    else:\n",
    "        return NEGATIVE if score < 0.5 else POSITIVE\n",
    "    \n",
    "def predict(text, include_neutral=True):\n",
    "    start_at = time.time()\n",
    "    # Tokenize text\n",
    "    x_test = pad_sequences(tokenizer.texts_to_sequences([text]), maxlen=SEQUENCE_LENGTH)\n",
    "    # Predict\n",
    "    score = model.predict([x_test])[0]\n",
    "    # Decode sentiment\n",
    "    label = decode_sentiment(score, include_neutral=include_neutral)\n",
    "\n",
    "    return {\"label\": label, \"score\": float(score),\n",
    "       \"elapsed_time\": time.time()-start_at}  "
   ]
  },
  {
   "cell_type": "code",
   "execution_count": 72,
   "id": "e363857c",
   "metadata": {},
   "outputs": [
    {
     "data": {
      "text/plain": [
       "{'label': 'NEUTRAL',\n",
       " 'score': 0.4423244297504425,\n",
       " 'elapsed_time': 0.2812933921813965}"
      ]
     },
     "execution_count": 72,
     "metadata": {},
     "output_type": "execute_result"
    }
   ],
   "source": [
    "predict(\"cows\")"
   ]
  },
  {
   "cell_type": "markdown",
   "id": "51aced05",
   "metadata": {},
   "source": [
    "<h3>Accuracy Score</h3>"
   ]
  },
  {
   "cell_type": "code",
   "execution_count": 73,
   "id": "d1a19fdd",
   "metadata": {},
   "outputs": [
    {
     "name": "stdout",
     "output_type": "stream",
     "text": [
      "1/1 [==============================] - 0s 260ms/step\n"
     ]
    },
    {
     "data": {
      "text/plain": [
       "1.0"
      ]
     },
     "execution_count": 73,
     "metadata": {},
     "output_type": "execute_result"
    }
   ],
   "source": [
    "y_pred_1d = []\n",
    "y_test_1d = list(df_test.target)\n",
    "scores = model.predict(x_test, verbose=1, batch_size=8000)\n",
    "y_pred_1d = [decode_sentiment(score, include_neutral=False) for score in scores]\n",
    "cnf_matrix = confusion_matrix(y_test_1d, y_pred_1d)\n",
    "accuracy_score(y_test_1d, y_pred_1d)"
   ]
  },
  {
   "cell_type": "markdown",
   "id": "e7c7e610",
   "metadata": {},
   "source": [
    "<h3>Saving the model as a pickle file</h3>"
   ]
  },
  {
   "cell_type": "code",
   "execution_count": 74,
   "id": "7427175a",
   "metadata": {},
   "outputs": [],
   "source": [
    "model.save(KERAS_MODEL)\n",
    "w2v_model.save(WORD2VEC_MODEL)\n",
    "pickle.dump(tokenizer, open(TOKENIZER_MODEL, \"wb\"), protocol=0)\n",
    "pickle.dump(encoder, open(ENCODER_MODEL, \"wb\"), protocol=0)"
   ]
  },
  {
   "cell_type": "markdown",
   "id": "13000c65",
   "metadata": {},
   "source": [
    "# K-Means Clustering"
   ]
  },
  {
   "cell_type": "code",
   "execution_count": 75,
   "id": "c6606350",
   "metadata": {},
   "outputs": [
    {
     "data": {
      "text/plain": [
       "text               0\n",
       "favourite_count    0\n",
       "retweet_count      0\n",
       "created_at         0\n",
       "target             0\n",
       "dtype: int64"
      ]
     },
     "execution_count": 75,
     "metadata": {},
     "output_type": "execute_result"
    }
   ],
   "source": [
    "df = df_tweets\n",
    "df.isnull().sum()"
   ]
  },
  {
   "cell_type": "markdown",
   "id": "2fc54378",
   "metadata": {},
   "source": [
    "<h3>Converting categorical variable into integers</h3>"
   ]
  },
  {
   "cell_type": "code",
   "execution_count": 76,
   "id": "c5c992b6",
   "metadata": {},
   "outputs": [
    {
     "name": "stdout",
     "output_type": "stream",
     "text": [
      "<class 'pandas.core.frame.DataFrame'>\n",
      "RangeIndex: 167 entries, 0 to 166\n",
      "Data columns (total 5 columns):\n",
      " #   Column           Non-Null Count  Dtype \n",
      "---  ------           --------------  ----- \n",
      " 0   text             167 non-null    object\n",
      " 1   favourite_count  167 non-null    int64 \n",
      " 2   retweet_count    167 non-null    int64 \n",
      " 3   created_at       167 non-null    int32 \n",
      " 4   target           167 non-null    object\n",
      "dtypes: int32(1), int64(2), object(2)\n",
      "memory usage: 6.0+ KB\n"
     ]
    },
    {
     "data": {
      "text/html": [
       "<div>\n",
       "<style scoped>\n",
       "    .dataframe tbody tr th:only-of-type {\n",
       "        vertical-align: middle;\n",
       "    }\n",
       "\n",
       "    .dataframe tbody tr th {\n",
       "        vertical-align: top;\n",
       "    }\n",
       "\n",
       "    .dataframe thead th {\n",
       "        text-align: right;\n",
       "    }\n",
       "</style>\n",
       "<table border=\"1\" class=\"dataframe\">\n",
       "  <thead>\n",
       "    <tr style=\"text-align: right;\">\n",
       "      <th></th>\n",
       "      <th>text</th>\n",
       "      <th>favourite_count</th>\n",
       "      <th>retweet_count</th>\n",
       "      <th>created_at</th>\n",
       "      <th>target</th>\n",
       "    </tr>\n",
       "  </thead>\n",
       "  <tbody>\n",
       "    <tr>\n",
       "      <th>0</th>\n",
       "      <td>iyengar yoga fridays themusclemill1 18 30 keep...</td>\n",
       "      <td>0</td>\n",
       "      <td>0</td>\n",
       "      <td>165</td>\n",
       "      <td>NEGATIVE</td>\n",
       "    </tr>\n",
       "    <tr>\n",
       "      <th>1</th>\n",
       "      <td>gaeltwice serveonlygod caljamieson want base p...</td>\n",
       "      <td>0</td>\n",
       "      <td>0</td>\n",
       "      <td>164</td>\n",
       "      <td>NEGATIVE</td>\n",
       "    </tr>\n",
       "    <tr>\n",
       "      <th>2</th>\n",
       "      <td>protocol discussions high agenda northern irel...</td>\n",
       "      <td>0</td>\n",
       "      <td>0</td>\n",
       "      <td>163</td>\n",
       "      <td>NEGATIVE</td>\n",
       "    </tr>\n",
       "    <tr>\n",
       "      <th>3</th>\n",
       "      <td>love island tiktok farming star says girl vega...</td>\n",
       "      <td>0</td>\n",
       "      <td>0</td>\n",
       "      <td>162</td>\n",
       "      <td>NEGATIVE</td>\n",
       "    </tr>\n",
       "    <tr>\n",
       "      <th>4</th>\n",
       "      <td>sure great event tomorrow client graham hardin...</td>\n",
       "      <td>2</td>\n",
       "      <td>1</td>\n",
       "      <td>161</td>\n",
       "      <td>NEGATIVE</td>\n",
       "    </tr>\n",
       "  </tbody>\n",
       "</table>\n",
       "</div>"
      ],
      "text/plain": [
       "                                                text  favourite_count  \\\n",
       "0  iyengar yoga fridays themusclemill1 18 30 keep...                0   \n",
       "1  gaeltwice serveonlygod caljamieson want base p...                0   \n",
       "2  protocol discussions high agenda northern irel...                0   \n",
       "3  love island tiktok farming star says girl vega...                0   \n",
       "4  sure great event tomorrow client graham hardin...                2   \n",
       "\n",
       "   retweet_count  created_at    target  \n",
       "0              0         165  NEGATIVE  \n",
       "1              0         164  NEGATIVE  \n",
       "2              0         163  NEGATIVE  \n",
       "3              0         162  NEGATIVE  \n",
       "4              1         161  NEGATIVE  "
      ]
     },
     "execution_count": 76,
     "metadata": {},
     "output_type": "execute_result"
    }
   ],
   "source": [
    "X = df\n",
    "y = df['created_at']\n",
    "le = LabelEncoder()\n",
    "X['created_at'] = le.fit_transform(X['created_at'])\n",
    "y = le.transform(y)\n",
    "X.info()\n",
    "X.head()"
   ]
  },
  {
   "cell_type": "markdown",
   "id": "8387d32d",
   "metadata": {},
   "source": [
    "<h3>Feature scaling and standardisation</h3>"
   ]
  },
  {
   "cell_type": "code",
   "execution_count": 77,
   "id": "261e0686",
   "metadata": {},
   "outputs": [],
   "source": [
    "del X['text']\n",
    "del X['target']\n",
    "cols = X.columns\n",
    "ms = MinMaxScaler()\n",
    "X = ms.fit_transform(X)"
   ]
  },
  {
   "cell_type": "code",
   "execution_count": 78,
   "id": "34e732c6",
   "metadata": {},
   "outputs": [
    {
     "data": {
      "text/html": [
       "<div>\n",
       "<style scoped>\n",
       "    .dataframe tbody tr th:only-of-type {\n",
       "        vertical-align: middle;\n",
       "    }\n",
       "\n",
       "    .dataframe tbody tr th {\n",
       "        vertical-align: top;\n",
       "    }\n",
       "\n",
       "    .dataframe thead tr th {\n",
       "        text-align: left;\n",
       "    }\n",
       "</style>\n",
       "<table border=\"1\" class=\"dataframe\">\n",
       "  <thead>\n",
       "    <tr>\n",
       "      <th></th>\n",
       "      <th>favourite_count</th>\n",
       "      <th>retweet_count</th>\n",
       "      <th>created_at</th>\n",
       "    </tr>\n",
       "  </thead>\n",
       "  <tbody>\n",
       "    <tr>\n",
       "      <th>0</th>\n",
       "      <td>0.000000</td>\n",
       "      <td>0.00</td>\n",
       "      <td>1.000000</td>\n",
       "    </tr>\n",
       "    <tr>\n",
       "      <th>1</th>\n",
       "      <td>0.000000</td>\n",
       "      <td>0.00</td>\n",
       "      <td>0.993939</td>\n",
       "    </tr>\n",
       "    <tr>\n",
       "      <th>2</th>\n",
       "      <td>0.000000</td>\n",
       "      <td>0.00</td>\n",
       "      <td>0.987879</td>\n",
       "    </tr>\n",
       "    <tr>\n",
       "      <th>3</th>\n",
       "      <td>0.000000</td>\n",
       "      <td>0.00</td>\n",
       "      <td>0.981818</td>\n",
       "    </tr>\n",
       "    <tr>\n",
       "      <th>4</th>\n",
       "      <td>0.023529</td>\n",
       "      <td>0.04</td>\n",
       "      <td>0.975758</td>\n",
       "    </tr>\n",
       "    <tr>\n",
       "      <th>...</th>\n",
       "      <td>...</td>\n",
       "      <td>...</td>\n",
       "      <td>...</td>\n",
       "    </tr>\n",
       "    <tr>\n",
       "      <th>162</th>\n",
       "      <td>0.552941</td>\n",
       "      <td>0.20</td>\n",
       "      <td>0.018182</td>\n",
       "    </tr>\n",
       "    <tr>\n",
       "      <th>163</th>\n",
       "      <td>0.000000</td>\n",
       "      <td>0.00</td>\n",
       "      <td>0.012121</td>\n",
       "    </tr>\n",
       "    <tr>\n",
       "      <th>164</th>\n",
       "      <td>0.058824</td>\n",
       "      <td>0.04</td>\n",
       "      <td>0.012121</td>\n",
       "    </tr>\n",
       "    <tr>\n",
       "      <th>165</th>\n",
       "      <td>0.000000</td>\n",
       "      <td>0.00</td>\n",
       "      <td>0.006061</td>\n",
       "    </tr>\n",
       "    <tr>\n",
       "      <th>166</th>\n",
       "      <td>0.047059</td>\n",
       "      <td>0.08</td>\n",
       "      <td>0.000000</td>\n",
       "    </tr>\n",
       "  </tbody>\n",
       "</table>\n",
       "<p>167 rows × 3 columns</p>\n",
       "</div>"
      ],
      "text/plain": [
       "    favourite_count retweet_count created_at\n",
       "0          0.000000          0.00   1.000000\n",
       "1          0.000000          0.00   0.993939\n",
       "2          0.000000          0.00   0.987879\n",
       "3          0.000000          0.00   0.981818\n",
       "4          0.023529          0.04   0.975758\n",
       "..              ...           ...        ...\n",
       "162        0.552941          0.20   0.018182\n",
       "163        0.000000          0.00   0.012121\n",
       "164        0.058824          0.04   0.012121\n",
       "165        0.000000          0.00   0.006061\n",
       "166        0.047059          0.08   0.000000\n",
       "\n",
       "[167 rows x 3 columns]"
      ]
     },
     "metadata": {},
     "output_type": "display_data"
    }
   ],
   "source": [
    "X = pd.DataFrame(X, columns=[cols])\n",
    "display(X)"
   ]
  },
  {
   "cell_type": "markdown",
   "id": "74aecc2d",
   "metadata": {},
   "source": [
    "<h3>K-Means model with two clusters</h3>"
   ]
  },
  {
   "cell_type": "code",
   "execution_count": 79,
   "id": "296c7640",
   "metadata": {},
   "outputs": [
    {
     "name": "stdout",
     "output_type": "stream",
     "text": [
      "CPU times: total: 0 ns\n",
      "Wall time: 52.5 ms\n"
     ]
    },
    {
     "data": {
      "text/plain": [
       "KMeans(n_clusters=2, random_state=0)"
      ]
     },
     "execution_count": 79,
     "metadata": {},
     "output_type": "execute_result"
    }
   ],
   "source": [
    "%%time\n",
    "kmeans = KMeans(n_clusters=2, random_state=0) \n",
    "kmeans.fit(X)"
   ]
  },
  {
   "cell_type": "markdown",
   "id": "98a2a484",
   "metadata": {},
   "source": [
    "<h3>K-Means model parameters study</h3>\n",
    "The KMeans algorithm clusters data by trying to separate samples in n groups of equal variances, minimizing a criterion known as inertia, or within-cluster sum-of-squares Inertia, or the within-cluster sum of squares criterion, can be recognized as a measure of how internally coherent clusters are."
   ]
  },
  {
   "cell_type": "code",
   "execution_count": 80,
   "id": "0162698e",
   "metadata": {},
   "outputs": [
    {
     "data": {
      "text/plain": [
       "array([[0.03613445, 0.03809524, 0.74848485],\n",
       "       [0.04493267, 0.03518072, 0.2426433 ]])"
      ]
     },
     "execution_count": 80,
     "metadata": {},
     "output_type": "execute_result"
    }
   ],
   "source": [
    "kmeans.cluster_centers_"
   ]
  },
  {
   "cell_type": "markdown",
   "id": "589f1f40",
   "metadata": {},
   "source": [
    "<h3>Inertia</h3>\n",
    "Inertia is not a normalized metric, the lower values of inertia are better and zero is optimal. The lesser the model inertia, the better the model fit."
   ]
  },
  {
   "cell_type": "code",
   "execution_count": 81,
   "id": "56e19f04",
   "metadata": {
    "scrolled": true
   },
   "outputs": [
    {
     "data": {
      "text/plain": [
       "7.674001006419909"
      ]
     },
     "execution_count": 81,
     "metadata": {},
     "output_type": "execute_result"
    }
   ],
   "source": [
    "kmeans.inertia_"
   ]
  },
  {
   "cell_type": "markdown",
   "id": "d18ee086",
   "metadata": {},
   "source": [
    "<h3>Utilizing elbow method to find optimal number of clusters</h3>\n",
    "As we can see the perfect number of clusters for this data would be 3 as that is where the graph drops dramatically."
   ]
  },
  {
   "cell_type": "code",
   "execution_count": 82,
   "id": "c4b3ae7f",
   "metadata": {},
   "outputs": [
    {
     "data": {
      "image/png": "[encoded data removed]",
      "text/plain": [
       "<Figure size 432x288 with 1 Axes>"
      ]
     },
     "metadata": {
      "needs_background": "light"
     },
     "output_type": "display_data"
    }
   ],
   "source": [
    "cs = []\n",
    "for i in range(1, 11):\n",
    "    kmeans = KMeans(n_clusters = i, init = 'k-means++', max_iter = 300, n_init = 10, random_state = 0)\n",
    "    kmeans.fit(X)\n",
    "    cs.append(kmeans.inertia_)\n",
    "plt.plot(range(1, 11), cs)\n",
    "plt.title('The Elbow Method')\n",
    "plt.xlabel('Number of clusters')\n",
    "plt.ylabel('CS')\n",
    "plt.show()"
   ]
  },
  {
   "cell_type": "markdown",
   "id": "a79af089",
   "metadata": {},
   "source": [
    "# Dashboard Interactive Visualization\n",
    "<h3><a href=\"http://127.0.0.1:8050/\">Link</a> to access visualization</h3>\n",
    "</br>\n",
    "<i>After the cell of code below runs access the visualization by the convenient link above or from the console output below.</i>"
   ]
  },
  {
   "cell_type": "code",
   "execution_count": null,
   "id": "44a6f52c",
   "metadata": {},
   "outputs": [
    {
     "name": "stdout",
     "output_type": "stream",
     "text": [
      "Dash is running on http://127.0.0.1:8050/\n",
      "\n",
      " * Serving Flask app \"__main__\" (lazy loading)\n",
      " * Environment: production\n",
      "\u001b[31m   WARNING: This is a development server. Do not use it in a production deployment.\u001b[0m\n",
      "\u001b[2m   Use a production WSGI server instead.\u001b[0m\n",
      " * Debug mode: off\n"
     ]
    },
    {
     "name": "stderr",
     "output_type": "stream",
     "text": [
      " * Running on http://127.0.0.1:8050/ (Press CTRL+C to quit)\n",
      "127.0.0.1 - - [13/Jan/2023 08:43:55] \"GET / HTTP/1.1\" 200 -\n",
      "127.0.0.1 - - [13/Jan/2023 08:43:56] \"GET /_dash-layout HTTP/1.1\" 200 -\n",
      "127.0.0.1 - - [13/Jan/2023 08:43:56] \"GET /_dash-dependencies HTTP/1.1\" 200 -\n",
      "127.0.0.1 - - [13/Jan/2023 08:43:56] \"GET /_favicon.ico?v=2.7.1 HTTP/1.1\" 200 -\n",
      "127.0.0.1 - - [13/Jan/2023 08:43:56] \"GET /_dash-component-suites/dash/dcc/async-graph.js HTTP/1.1\" 200 -\n",
      "127.0.0.1 - - [13/Jan/2023 08:43:56] \"GET /_dash-component-suites/dash/dcc/async-plotlyjs.js HTTP/1.1\" 200 -\n",
      "127.0.0.1 - - [13/Jan/2023 08:43:58] \"POST /_dash-update-component HTTP/1.1\" 200 -\n",
      "127.0.0.1 - - [13/Jan/2023 08:44:00] \"POST /_dash-update-component HTTP/1.1\" 200 -\n",
      "127.0.0.1 - - [13/Jan/2023 08:44:02] \"POST /_dash-update-component HTTP/1.1\" 200 -\n"
     ]
    }
   ],
   "source": [
    "from dash import Dash, dcc, html, Input, Output\n",
    "import plotly.express as px\n",
    "\n",
    "app = Dash(__name__)\n",
    "\n",
    "app.layout = html.Div([\n",
    "    html.H4(\"Analysis of Dairy Livestock 2020\"),\n",
    "    html.P(\"Select Distribution:\"),\n",
    "    dcc.RadioItems(\n",
    "        id='distribution',\n",
    "        options=['box', 'violin', 'rug'],\n",
    "        value='box', inline=True\n",
    "    ),\n",
    "    dcc.Graph(id=\"graph\"),\n",
    "])\n",
    "\n",
    "\n",
    "@app.callback(\n",
    "    Output(\"graph\", \"figure\"), \n",
    "    Input(\"distribution\", \"value\"))\n",
    "def display_graph(distribution):\n",
    "    df = data_Eu\n",
    "    fig = px.histogram(\n",
    "        df, x=\"2000\", y=\"2020\", color=\"Countries\",\n",
    "        marginal=distribution, range_x=[-5, 60],\n",
    "        hover_data=df.columns)\n",
    "    return fig\n",
    "\n",
    "# IFrame('http://127.0.0.1:8050/', width=700, height=350) \n",
    "# Won't display while dash is still running server, I tried :-( \n",
    "# Marks for effort?😊\n",
    "\n",
    "app.run_server(debug=False)"
   ]
  },
  {
   "cell_type": "markdown",
   "id": "9a1d4bb7",
   "metadata": {},
   "source": [
    "<h1>References</h1>\n",
    "Awojide, Margaret. “Statistics for Data Analysts: Inferential Statistics with Python.” CodeX, 14 Sept. 2022, medium.com/codex/statistics-for-data-analysts-inferential-statistics-with-python-de8b7f49cfa. Accessed 5 Jan. 2023.\n",
    "\n",
    "Duca, Angelica Lo. “How to Build a Dataset from Twitter Using Python Tweepy.” Medium, 22 Apr. 2022, towardsdatascience.com/how-to-build-a-dataset-from-twitter-using-python-tweepy-861bdbc16fa5. Accessed 6 Jan. 2023.\n",
    "\n",
    "Hirsch, Stefan, et al. “Dataset on the Dairy Processing Industry in France, Italy, Poland and Spain.” Www.research-Collection.ethz.ch, 2019, www.research-collection.ethz.ch/handle/20.500.11850/333174, 10.3929/ethz-b-000333174. Accessed 4 Jan. 2023.\n",
    "\n",
    "“How to Get Tweets Using Python and Twitter API.” Quantitative Finance & Algo Trading Blog by QuantInsti, 11 July 2022, blog.quantinsti.com/python-twitter-api/. Accessed 6 Jan. 2023.\n",
    "\n",
    "“Python Pandas - Descriptive Statistics - Tutorialspoint.” Www.tutorialspoint.com, www.tutorialspoint.com/python_pandas/python_pandas_descriptive_statistics.htm.\n",
    "\n",
    "“Python Z Test | When to Perform Z Test in Python with Examples?” EDUCBA, 13 Feb. 2022, www.educba.com/python-z-test/.\n",
    "\n",
    "RAHMAN, KALILUR. “How to Avoid KERAS Import Errors in Your Notebooks - a Solution | Data Science and Machine Learning.” Www.kaggle.com, www.kaggle.com/general/274656. Accessed 6 Jan. 2023.\n",
    "\n",
    "Shane. “Delete Rows & Columns in DataFrames Using Pandas Drop.” Www.shanelynn.ie, www.shanelynn.ie/pandas-drop-delete-dataframe-rows-columns/.\n",
    "\n",
    "Stojiljković, Mirko. “Python Statistics Fundamentals: How to Describe Your Data – Real Python.” Realpython.com, realpython.com/python-statistics/.\n",
    "\n",
    "Thu, et al. “Irish Dairy’s Elevated Position across Range of Global Metrics.” Irish Examiner, 7 Oct. 2021, www.irishexaminer.com/farming/arid-40715282.html.\n",
    "\n",
    "“UK and EU Cow Numbers | AHDB.” Ahdb.org.uk, 2019, ahdb.org.uk/dairy/uk-and-eu-cow-numbers.\n",
    "\n",
    "Zach. “How to Calculate Confidence Intervals in Python.” Statology, 16 July 2020, www.statology.org/confidence-intervals-python/.\n",
    "\n",
    "---. “Pandas: How to Remove Special Characters from Column.” Statology, 10 Oct. 2022, www.statology.org/pandas-remove-special-characters/. Accessed 4 Jan. 2023."
   ]
  },
  {
   "cell_type": "code",
   "execution_count": null,
   "id": "ef5f0c78",
   "metadata": {},
   "outputs": [],
   "source": []
  }
 ],
 "metadata": {
  "kernelspec": {
   "display_name": "Python 3 (ipykernel)",
   "language": "python",
   "name": "python3"
  },
  "language_info": {
   "codemirror_mode": {
    "name": "ipython",
    "version": 3
   },
   "file_extension": ".py",
   "mimetype": "text/x-python",
   "name": "python",
   "nbconvert_exporter": "python",
   "pygments_lexer": "ipython3",
   "version": "3.9.12"
  }
 },
 "nbformat": 4,
 "nbformat_minor": 5
}
